{
  "nbformat": 4,
  "nbformat_minor": 0,
  "metadata": {
    "colab": {
      "provenance": []
    },
    "kernelspec": {
      "name": "python3",
      "display_name": "Python 3"
    },
    "language_info": {
      "name": "python"
    }
  },
  "cells": [
    {
      "cell_type": "code",
      "execution_count": 1,
      "metadata": {
        "colab": {
          "base_uri": "https://localhost:8080/"
        },
        "id": "8g_PSU5ry-Iz",
        "outputId": "624b7ec9-e36b-4761-d5b1-d4806b9a8b94"
      },
      "outputs": [
        {
          "output_type": "stream",
          "name": "stdout",
          "text": [
            "Collecting sentence-transformers\n",
            "  Downloading sentence_transformers-3.0.1-py3-none-any.whl (227 kB)\n",
            "\u001b[?25l     \u001b[90m━━━━━━━━━━━━━━━━━━━━━━━━━━━━━━━━━━━━━━━━\u001b[0m \u001b[32m0.0/227.1 kB\u001b[0m \u001b[31m?\u001b[0m eta \u001b[36m-:--:--\u001b[0m\r\u001b[2K     \u001b[91m━━━━━━━\u001b[0m\u001b[90m╺\u001b[0m\u001b[90m━━━━━━━━━━━━━━━━━━━━━━━━━━━━━━━━\u001b[0m \u001b[32m41.0/227.1 kB\u001b[0m \u001b[31m2.1 MB/s\u001b[0m eta \u001b[36m0:00:01\u001b[0m\r\u001b[2K     \u001b[91m━━━━━━━━━━━━━━━━━━━━━━━━━━━━━━━━━━\u001b[0m\u001b[90m╺\u001b[0m\u001b[90m━━━━━\u001b[0m \u001b[32m194.6/227.1 kB\u001b[0m \u001b[31m2.7 MB/s\u001b[0m eta \u001b[36m0:00:01\u001b[0m\r\u001b[2K     \u001b[90m━━━━━━━━━━━━━━━━━━━━━━━━━━━━━━━━━━━━━━━━\u001b[0m \u001b[32m227.1/227.1 kB\u001b[0m \u001b[31m2.5 MB/s\u001b[0m eta \u001b[36m0:00:00\u001b[0m\n",
            "\u001b[?25hRequirement already satisfied: transformers<5.0.0,>=4.34.0 in /usr/local/lib/python3.10/dist-packages (from sentence-transformers) (4.41.2)\n",
            "Requirement already satisfied: tqdm in /usr/local/lib/python3.10/dist-packages (from sentence-transformers) (4.66.4)\n",
            "Requirement already satisfied: torch>=1.11.0 in /usr/local/lib/python3.10/dist-packages (from sentence-transformers) (2.3.0+cu121)\n",
            "Requirement already satisfied: numpy in /usr/local/lib/python3.10/dist-packages (from sentence-transformers) (1.25.2)\n",
            "Requirement already satisfied: scikit-learn in /usr/local/lib/python3.10/dist-packages (from sentence-transformers) (1.2.2)\n",
            "Requirement already satisfied: scipy in /usr/local/lib/python3.10/dist-packages (from sentence-transformers) (1.11.4)\n",
            "Requirement already satisfied: huggingface-hub>=0.15.1 in /usr/local/lib/python3.10/dist-packages (from sentence-transformers) (0.23.4)\n",
            "Requirement already satisfied: Pillow in /usr/local/lib/python3.10/dist-packages (from sentence-transformers) (9.4.0)\n",
            "Requirement already satisfied: filelock in /usr/local/lib/python3.10/dist-packages (from huggingface-hub>=0.15.1->sentence-transformers) (3.15.3)\n",
            "Requirement already satisfied: fsspec>=2023.5.0 in /usr/local/lib/python3.10/dist-packages (from huggingface-hub>=0.15.1->sentence-transformers) (2023.6.0)\n",
            "Requirement already satisfied: packaging>=20.9 in /usr/local/lib/python3.10/dist-packages (from huggingface-hub>=0.15.1->sentence-transformers) (24.1)\n",
            "Requirement already satisfied: pyyaml>=5.1 in /usr/local/lib/python3.10/dist-packages (from huggingface-hub>=0.15.1->sentence-transformers) (6.0.1)\n",
            "Requirement already satisfied: requests in /usr/local/lib/python3.10/dist-packages (from huggingface-hub>=0.15.1->sentence-transformers) (2.31.0)\n",
            "Requirement already satisfied: typing-extensions>=3.7.4.3 in /usr/local/lib/python3.10/dist-packages (from huggingface-hub>=0.15.1->sentence-transformers) (4.12.2)\n",
            "Requirement already satisfied: sympy in /usr/local/lib/python3.10/dist-packages (from torch>=1.11.0->sentence-transformers) (1.12.1)\n",
            "Requirement already satisfied: networkx in /usr/local/lib/python3.10/dist-packages (from torch>=1.11.0->sentence-transformers) (3.3)\n",
            "Requirement already satisfied: jinja2 in /usr/local/lib/python3.10/dist-packages (from torch>=1.11.0->sentence-transformers) (3.1.4)\n",
            "Collecting nvidia-cuda-nvrtc-cu12==12.1.105 (from torch>=1.11.0->sentence-transformers)\n",
            "  Using cached nvidia_cuda_nvrtc_cu12-12.1.105-py3-none-manylinux1_x86_64.whl (23.7 MB)\n",
            "Collecting nvidia-cuda-runtime-cu12==12.1.105 (from torch>=1.11.0->sentence-transformers)\n",
            "  Using cached nvidia_cuda_runtime_cu12-12.1.105-py3-none-manylinux1_x86_64.whl (823 kB)\n",
            "Collecting nvidia-cuda-cupti-cu12==12.1.105 (from torch>=1.11.0->sentence-transformers)\n",
            "  Using cached nvidia_cuda_cupti_cu12-12.1.105-py3-none-manylinux1_x86_64.whl (14.1 MB)\n",
            "Collecting nvidia-cudnn-cu12==8.9.2.26 (from torch>=1.11.0->sentence-transformers)\n",
            "  Using cached nvidia_cudnn_cu12-8.9.2.26-py3-none-manylinux1_x86_64.whl (731.7 MB)\n",
            "Collecting nvidia-cublas-cu12==12.1.3.1 (from torch>=1.11.0->sentence-transformers)\n",
            "  Using cached nvidia_cublas_cu12-12.1.3.1-py3-none-manylinux1_x86_64.whl (410.6 MB)\n",
            "Collecting nvidia-cufft-cu12==11.0.2.54 (from torch>=1.11.0->sentence-transformers)\n",
            "  Using cached nvidia_cufft_cu12-11.0.2.54-py3-none-manylinux1_x86_64.whl (121.6 MB)\n",
            "Collecting nvidia-curand-cu12==10.3.2.106 (from torch>=1.11.0->sentence-transformers)\n",
            "  Using cached nvidia_curand_cu12-10.3.2.106-py3-none-manylinux1_x86_64.whl (56.5 MB)\n",
            "Collecting nvidia-cusolver-cu12==11.4.5.107 (from torch>=1.11.0->sentence-transformers)\n",
            "  Using cached nvidia_cusolver_cu12-11.4.5.107-py3-none-manylinux1_x86_64.whl (124.2 MB)\n",
            "Collecting nvidia-cusparse-cu12==12.1.0.106 (from torch>=1.11.0->sentence-transformers)\n",
            "  Using cached nvidia_cusparse_cu12-12.1.0.106-py3-none-manylinux1_x86_64.whl (196.0 MB)\n",
            "Collecting nvidia-nccl-cu12==2.20.5 (from torch>=1.11.0->sentence-transformers)\n",
            "  Using cached nvidia_nccl_cu12-2.20.5-py3-none-manylinux2014_x86_64.whl (176.2 MB)\n",
            "Collecting nvidia-nvtx-cu12==12.1.105 (from torch>=1.11.0->sentence-transformers)\n",
            "  Using cached nvidia_nvtx_cu12-12.1.105-py3-none-manylinux1_x86_64.whl (99 kB)\n",
            "Requirement already satisfied: triton==2.3.0 in /usr/local/lib/python3.10/dist-packages (from torch>=1.11.0->sentence-transformers) (2.3.0)\n",
            "Collecting nvidia-nvjitlink-cu12 (from nvidia-cusolver-cu12==11.4.5.107->torch>=1.11.0->sentence-transformers)\n",
            "  Downloading nvidia_nvjitlink_cu12-12.5.40-py3-none-manylinux2014_x86_64.whl (21.3 MB)\n",
            "\u001b[2K     \u001b[90m━━━━━━━━━━━━━━━━━━━━━━━━━━━━━━━━━━━━━━━━\u001b[0m \u001b[32m21.3/21.3 MB\u001b[0m \u001b[31m54.2 MB/s\u001b[0m eta \u001b[36m0:00:00\u001b[0m\n",
            "\u001b[?25hRequirement already satisfied: regex!=2019.12.17 in /usr/local/lib/python3.10/dist-packages (from transformers<5.0.0,>=4.34.0->sentence-transformers) (2024.5.15)\n",
            "Requirement already satisfied: tokenizers<0.20,>=0.19 in /usr/local/lib/python3.10/dist-packages (from transformers<5.0.0,>=4.34.0->sentence-transformers) (0.19.1)\n",
            "Requirement already satisfied: safetensors>=0.4.1 in /usr/local/lib/python3.10/dist-packages (from transformers<5.0.0,>=4.34.0->sentence-transformers) (0.4.3)\n",
            "Requirement already satisfied: joblib>=1.1.1 in /usr/local/lib/python3.10/dist-packages (from scikit-learn->sentence-transformers) (1.4.2)\n",
            "Requirement already satisfied: threadpoolctl>=2.0.0 in /usr/local/lib/python3.10/dist-packages (from scikit-learn->sentence-transformers) (3.5.0)\n",
            "Requirement already satisfied: MarkupSafe>=2.0 in /usr/local/lib/python3.10/dist-packages (from jinja2->torch>=1.11.0->sentence-transformers) (2.1.5)\n",
            "Requirement already satisfied: charset-normalizer<4,>=2 in /usr/local/lib/python3.10/dist-packages (from requests->huggingface-hub>=0.15.1->sentence-transformers) (3.3.2)\n",
            "Requirement already satisfied: idna<4,>=2.5 in /usr/local/lib/python3.10/dist-packages (from requests->huggingface-hub>=0.15.1->sentence-transformers) (3.7)\n",
            "Requirement already satisfied: urllib3<3,>=1.21.1 in /usr/local/lib/python3.10/dist-packages (from requests->huggingface-hub>=0.15.1->sentence-transformers) (2.0.7)\n",
            "Requirement already satisfied: certifi>=2017.4.17 in /usr/local/lib/python3.10/dist-packages (from requests->huggingface-hub>=0.15.1->sentence-transformers) (2024.6.2)\n",
            "Requirement already satisfied: mpmath<1.4.0,>=1.1.0 in /usr/local/lib/python3.10/dist-packages (from sympy->torch>=1.11.0->sentence-transformers) (1.3.0)\n",
            "Installing collected packages: nvidia-nvtx-cu12, nvidia-nvjitlink-cu12, nvidia-nccl-cu12, nvidia-curand-cu12, nvidia-cufft-cu12, nvidia-cuda-runtime-cu12, nvidia-cuda-nvrtc-cu12, nvidia-cuda-cupti-cu12, nvidia-cublas-cu12, nvidia-cusparse-cu12, nvidia-cudnn-cu12, nvidia-cusolver-cu12, sentence-transformers\n",
            "Successfully installed nvidia-cublas-cu12-12.1.3.1 nvidia-cuda-cupti-cu12-12.1.105 nvidia-cuda-nvrtc-cu12-12.1.105 nvidia-cuda-runtime-cu12-12.1.105 nvidia-cudnn-cu12-8.9.2.26 nvidia-cufft-cu12-11.0.2.54 nvidia-curand-cu12-10.3.2.106 nvidia-cusolver-cu12-11.4.5.107 nvidia-cusparse-cu12-12.1.0.106 nvidia-nccl-cu12-2.20.5 nvidia-nvjitlink-cu12-12.5.40 nvidia-nvtx-cu12-12.1.105 sentence-transformers-3.0.1\n"
          ]
        }
      ],
      "source": [
        "# sentence transformers are tools used in NLP\n",
        "# they turn sentence or texts into numerical representation\n",
        "!pip install sentence-transformers"
      ]
    },
    {
      "cell_type": "code",
      "source": [
        "!pip install openai"
      ],
      "metadata": {
        "colab": {
          "base_uri": "https://localhost:8080/"
        },
        "id": "aT9zLYpS1TWX",
        "outputId": "bc0efa91-c7b5-4b1b-da6d-7d34bc1bdcd5"
      },
      "execution_count": 2,
      "outputs": [
        {
          "output_type": "stream",
          "name": "stdout",
          "text": [
            "Collecting openai\n",
            "  Downloading openai-1.35.7-py3-none-any.whl (327 kB)\n",
            "\u001b[2K     \u001b[90m━━━━━━━━━━━━━━━━━━━━━━━━━━━━━━━━━━━━━━━━\u001b[0m \u001b[32m327.5/327.5 kB\u001b[0m \u001b[31m6.3 MB/s\u001b[0m eta \u001b[36m0:00:00\u001b[0m\n",
            "\u001b[?25hRequirement already satisfied: anyio<5,>=3.5.0 in /usr/local/lib/python3.10/dist-packages (from openai) (3.7.1)\n",
            "Requirement already satisfied: distro<2,>=1.7.0 in /usr/lib/python3/dist-packages (from openai) (1.7.0)\n",
            "Collecting httpx<1,>=0.23.0 (from openai)\n",
            "  Downloading httpx-0.27.0-py3-none-any.whl (75 kB)\n",
            "\u001b[2K     \u001b[90m━━━━━━━━━━━━━━━━━━━━━━━━━━━━━━━━━━━━━━━━\u001b[0m \u001b[32m75.6/75.6 kB\u001b[0m \u001b[31m5.7 MB/s\u001b[0m eta \u001b[36m0:00:00\u001b[0m\n",
            "\u001b[?25hRequirement already satisfied: pydantic<3,>=1.9.0 in /usr/local/lib/python3.10/dist-packages (from openai) (2.7.4)\n",
            "Requirement already satisfied: sniffio in /usr/local/lib/python3.10/dist-packages (from openai) (1.3.1)\n",
            "Requirement already satisfied: tqdm>4 in /usr/local/lib/python3.10/dist-packages (from openai) (4.66.4)\n",
            "Requirement already satisfied: typing-extensions<5,>=4.7 in /usr/local/lib/python3.10/dist-packages (from openai) (4.12.2)\n",
            "Requirement already satisfied: idna>=2.8 in /usr/local/lib/python3.10/dist-packages (from anyio<5,>=3.5.0->openai) (3.7)\n",
            "Requirement already satisfied: exceptiongroup in /usr/local/lib/python3.10/dist-packages (from anyio<5,>=3.5.0->openai) (1.2.1)\n",
            "Requirement already satisfied: certifi in /usr/local/lib/python3.10/dist-packages (from httpx<1,>=0.23.0->openai) (2024.6.2)\n",
            "Collecting httpcore==1.* (from httpx<1,>=0.23.0->openai)\n",
            "  Downloading httpcore-1.0.5-py3-none-any.whl (77 kB)\n",
            "\u001b[2K     \u001b[90m━━━━━━━━━━━━━━━━━━━━━━━━━━━━━━━━━━━━━━━━\u001b[0m \u001b[32m77.9/77.9 kB\u001b[0m \u001b[31m6.1 MB/s\u001b[0m eta \u001b[36m0:00:00\u001b[0m\n",
            "\u001b[?25hCollecting h11<0.15,>=0.13 (from httpcore==1.*->httpx<1,>=0.23.0->openai)\n",
            "  Downloading h11-0.14.0-py3-none-any.whl (58 kB)\n",
            "\u001b[2K     \u001b[90m━━━━━━━━━━━━━━━━━━━━━━━━━━━━━━━━━━━━━━━━\u001b[0m \u001b[32m58.3/58.3 kB\u001b[0m \u001b[31m6.2 MB/s\u001b[0m eta \u001b[36m0:00:00\u001b[0m\n",
            "\u001b[?25hRequirement already satisfied: annotated-types>=0.4.0 in /usr/local/lib/python3.10/dist-packages (from pydantic<3,>=1.9.0->openai) (0.7.0)\n",
            "Requirement already satisfied: pydantic-core==2.18.4 in /usr/local/lib/python3.10/dist-packages (from pydantic<3,>=1.9.0->openai) (2.18.4)\n",
            "Installing collected packages: h11, httpcore, httpx, openai\n",
            "Successfully installed h11-0.14.0 httpcore-1.0.5 httpx-0.27.0 openai-1.35.7\n"
          ]
        }
      ]
    },
    {
      "cell_type": "code",
      "source": [
        "!pip install chromadb"
      ],
      "metadata": {
        "colab": {
          "base_uri": "https://localhost:8080/"
        },
        "id": "nsu0QuooFkch",
        "outputId": "7f322f03-6006-4cd8-daa2-db3d4acbc4d7"
      },
      "execution_count": 91,
      "outputs": [
        {
          "output_type": "stream",
          "name": "stdout",
          "text": [
            "Collecting chromadb\n",
            "  Downloading chromadb-0.5.3-py3-none-any.whl (559 kB)\n",
            "\u001b[2K     \u001b[90m━━━━━━━━━━━━━━━━━━━━━━━━━━━━━━━━━━━━━━━━\u001b[0m \u001b[32m559.5/559.5 kB\u001b[0m \u001b[31m7.3 MB/s\u001b[0m eta \u001b[36m0:00:00\u001b[0m\n",
            "\u001b[?25hRequirement already satisfied: build>=1.0.3 in /usr/local/lib/python3.10/dist-packages (from chromadb) (1.2.1)\n",
            "Requirement already satisfied: requests>=2.28 in /usr/local/lib/python3.10/dist-packages (from chromadb) (2.31.0)\n",
            "Requirement already satisfied: pydantic>=1.9 in /usr/local/lib/python3.10/dist-packages (from chromadb) (2.7.4)\n",
            "Collecting chroma-hnswlib==0.7.3 (from chromadb)\n",
            "  Downloading chroma_hnswlib-0.7.3-cp310-cp310-manylinux_2_17_x86_64.manylinux2014_x86_64.whl (2.4 MB)\n",
            "\u001b[2K     \u001b[90m━━━━━━━━━━━━━━━━━━━━━━━━━━━━━━━━━━━━━━━━\u001b[0m \u001b[32m2.4/2.4 MB\u001b[0m \u001b[31m20.7 MB/s\u001b[0m eta \u001b[36m0:00:00\u001b[0m\n",
            "\u001b[?25hCollecting fastapi>=0.95.2 (from chromadb)\n",
            "  Downloading fastapi-0.111.0-py3-none-any.whl (91 kB)\n",
            "\u001b[2K     \u001b[90m━━━━━━━━━━━━━━━━━━━━━━━━━━━━━━━━━━━━━━━━\u001b[0m \u001b[32m92.0/92.0 kB\u001b[0m \u001b[31m10.3 MB/s\u001b[0m eta \u001b[36m0:00:00\u001b[0m\n",
            "\u001b[?25hCollecting uvicorn[standard]>=0.18.3 (from chromadb)\n",
            "  Downloading uvicorn-0.30.1-py3-none-any.whl (62 kB)\n",
            "\u001b[2K     \u001b[90m━━━━━━━━━━━━━━━━━━━━━━━━━━━━━━━━━━━━━━━━\u001b[0m \u001b[32m62.4/62.4 kB\u001b[0m \u001b[31m6.0 MB/s\u001b[0m eta \u001b[36m0:00:00\u001b[0m\n",
            "\u001b[?25hRequirement already satisfied: numpy<2.0.0,>=1.22.5 in /usr/local/lib/python3.10/dist-packages (from chromadb) (1.25.2)\n",
            "Collecting posthog>=2.4.0 (from chromadb)\n",
            "  Downloading posthog-3.5.0-py2.py3-none-any.whl (41 kB)\n",
            "\u001b[2K     \u001b[90m━━━━━━━━━━━━━━━━━━━━━━━━━━━━━━━━━━━━━━━━\u001b[0m \u001b[32m41.3/41.3 kB\u001b[0m \u001b[31m5.0 MB/s\u001b[0m eta \u001b[36m0:00:00\u001b[0m\n",
            "\u001b[?25hRequirement already satisfied: typing-extensions>=4.5.0 in /usr/local/lib/python3.10/dist-packages (from chromadb) (4.12.2)\n",
            "Collecting onnxruntime>=1.14.1 (from chromadb)\n",
            "  Downloading onnxruntime-1.18.1-cp310-cp310-manylinux_2_27_x86_64.manylinux_2_28_x86_64.whl (6.8 MB)\n",
            "\u001b[2K     \u001b[90m━━━━━━━━━━━━━━━━━━━━━━━━━━━━━━━━━━━━━━━━\u001b[0m \u001b[32m6.8/6.8 MB\u001b[0m \u001b[31m46.2 MB/s\u001b[0m eta \u001b[36m0:00:00\u001b[0m\n",
            "\u001b[?25hCollecting opentelemetry-api>=1.2.0 (from chromadb)\n",
            "  Downloading opentelemetry_api-1.25.0-py3-none-any.whl (59 kB)\n",
            "\u001b[2K     \u001b[90m━━━━━━━━━━━━━━━━━━━━━━━━━━━━━━━━━━━━━━━━\u001b[0m \u001b[32m59.9/59.9 kB\u001b[0m \u001b[31m5.5 MB/s\u001b[0m eta \u001b[36m0:00:00\u001b[0m\n",
            "\u001b[?25hCollecting opentelemetry-exporter-otlp-proto-grpc>=1.2.0 (from chromadb)\n",
            "  Downloading opentelemetry_exporter_otlp_proto_grpc-1.25.0-py3-none-any.whl (18 kB)\n",
            "Collecting opentelemetry-instrumentation-fastapi>=0.41b0 (from chromadb)\n",
            "  Downloading opentelemetry_instrumentation_fastapi-0.46b0-py3-none-any.whl (11 kB)\n",
            "Collecting opentelemetry-sdk>=1.2.0 (from chromadb)\n",
            "  Downloading opentelemetry_sdk-1.25.0-py3-none-any.whl (107 kB)\n",
            "\u001b[2K     \u001b[90m━━━━━━━━━━━━━━━━━━━━━━━━━━━━━━━━━━━━━━━━\u001b[0m \u001b[32m107.0/107.0 kB\u001b[0m \u001b[31m11.5 MB/s\u001b[0m eta \u001b[36m0:00:00\u001b[0m\n",
            "\u001b[?25hRequirement already satisfied: tokenizers>=0.13.2 in /usr/local/lib/python3.10/dist-packages (from chromadb) (0.19.1)\n",
            "Collecting pypika>=0.48.9 (from chromadb)\n",
            "  Downloading PyPika-0.48.9.tar.gz (67 kB)\n",
            "\u001b[2K     \u001b[90m━━━━━━━━━━━━━━━━━━━━━━━━━━━━━━━━━━━━━━━━\u001b[0m \u001b[32m67.3/67.3 kB\u001b[0m \u001b[31m6.7 MB/s\u001b[0m eta \u001b[36m0:00:00\u001b[0m\n",
            "\u001b[?25h  Installing build dependencies ... \u001b[?25l\u001b[?25hdone\n",
            "  Getting requirements to build wheel ... \u001b[?25l\u001b[?25hdone\n",
            "  Preparing metadata (pyproject.toml) ... \u001b[?25l\u001b[?25hdone\n",
            "Requirement already satisfied: tqdm>=4.65.0 in /usr/local/lib/python3.10/dist-packages (from chromadb) (4.66.4)\n",
            "Collecting overrides>=7.3.1 (from chromadb)\n",
            "  Downloading overrides-7.7.0-py3-none-any.whl (17 kB)\n",
            "Requirement already satisfied: importlib-resources in /usr/local/lib/python3.10/dist-packages (from chromadb) (6.4.0)\n",
            "Requirement already satisfied: grpcio>=1.58.0 in /usr/local/lib/python3.10/dist-packages (from chromadb) (1.64.1)\n",
            "Collecting bcrypt>=4.0.1 (from chromadb)\n",
            "  Downloading bcrypt-4.1.3-cp39-abi3-manylinux_2_28_x86_64.whl (283 kB)\n",
            "\u001b[2K     \u001b[90m━━━━━━━━━━━━━━━━━━━━━━━━━━━━━━━━━━━━━━━━\u001b[0m \u001b[32m283.7/283.7 kB\u001b[0m \u001b[31m24.8 MB/s\u001b[0m eta \u001b[36m0:00:00\u001b[0m\n",
            "\u001b[?25hRequirement already satisfied: typer>=0.9.0 in /usr/local/lib/python3.10/dist-packages (from chromadb) (0.12.3)\n",
            "Collecting kubernetes>=28.1.0 (from chromadb)\n",
            "  Downloading kubernetes-30.1.0-py2.py3-none-any.whl (1.7 MB)\n",
            "\u001b[2K     \u001b[90m━━━━━━━━━━━━━━━━━━━━━━━━━━━━━━━━━━━━━━━━\u001b[0m \u001b[32m1.7/1.7 MB\u001b[0m \u001b[31m53.9 MB/s\u001b[0m eta \u001b[36m0:00:00\u001b[0m\n",
            "\u001b[?25hRequirement already satisfied: tenacity>=8.2.3 in /usr/local/lib/python3.10/dist-packages (from chromadb) (8.4.1)\n",
            "Requirement already satisfied: PyYAML>=6.0.0 in /usr/local/lib/python3.10/dist-packages (from chromadb) (6.0.1)\n",
            "Collecting mmh3>=4.0.1 (from chromadb)\n",
            "  Downloading mmh3-4.1.0-cp310-cp310-manylinux_2_5_x86_64.manylinux1_x86_64.manylinux_2_17_x86_64.manylinux2014_x86_64.whl (67 kB)\n",
            "\u001b[2K     \u001b[90m━━━━━━━━━━━━━━━━━━━━━━━━━━━━━━━━━━━━━━━━\u001b[0m \u001b[32m67.6/67.6 kB\u001b[0m \u001b[31m9.3 MB/s\u001b[0m eta \u001b[36m0:00:00\u001b[0m\n",
            "\u001b[?25hCollecting orjson>=3.9.12 (from chromadb)\n",
            "  Downloading orjson-3.10.5-cp310-cp310-manylinux_2_17_x86_64.manylinux2014_x86_64.whl (144 kB)\n",
            "\u001b[2K     \u001b[90m━━━━━━━━━━━━━━━━━━━━━━━━━━━━━━━━━━━━━━━━\u001b[0m \u001b[32m145.0/145.0 kB\u001b[0m \u001b[31m17.5 MB/s\u001b[0m eta \u001b[36m0:00:00\u001b[0m\n",
            "\u001b[?25hRequirement already satisfied: httpx>=0.27.0 in /usr/local/lib/python3.10/dist-packages (from chromadb) (0.27.0)\n",
            "Requirement already satisfied: packaging>=19.1 in /usr/local/lib/python3.10/dist-packages (from build>=1.0.3->chromadb) (24.1)\n",
            "Requirement already satisfied: pyproject_hooks in /usr/local/lib/python3.10/dist-packages (from build>=1.0.3->chromadb) (1.1.0)\n",
            "Requirement already satisfied: tomli>=1.1.0 in /usr/local/lib/python3.10/dist-packages (from build>=1.0.3->chromadb) (2.0.1)\n",
            "Collecting starlette<0.38.0,>=0.37.2 (from fastapi>=0.95.2->chromadb)\n",
            "  Downloading starlette-0.37.2-py3-none-any.whl (71 kB)\n",
            "\u001b[2K     \u001b[90m━━━━━━━━━━━━━━━━━━━━━━━━━━━━━━━━━━━━━━━━\u001b[0m \u001b[32m71.9/71.9 kB\u001b[0m \u001b[31m9.2 MB/s\u001b[0m eta \u001b[36m0:00:00\u001b[0m\n",
            "\u001b[?25hCollecting fastapi-cli>=0.0.2 (from fastapi>=0.95.2->chromadb)\n",
            "  Downloading fastapi_cli-0.0.4-py3-none-any.whl (9.5 kB)\n",
            "Requirement already satisfied: jinja2>=2.11.2 in /usr/local/lib/python3.10/dist-packages (from fastapi>=0.95.2->chromadb) (3.1.4)\n",
            "Collecting python-multipart>=0.0.7 (from fastapi>=0.95.2->chromadb)\n",
            "  Downloading python_multipart-0.0.9-py3-none-any.whl (22 kB)\n",
            "Collecting ujson!=4.0.2,!=4.1.0,!=4.2.0,!=4.3.0,!=5.0.0,!=5.1.0,>=4.0.1 (from fastapi>=0.95.2->chromadb)\n",
            "  Downloading ujson-5.10.0-cp310-cp310-manylinux_2_17_x86_64.manylinux2014_x86_64.whl (53 kB)\n",
            "\u001b[2K     \u001b[90m━━━━━━━━━━━━━━━━━━━━━━━━━━━━━━━━━━━━━━━━\u001b[0m \u001b[32m53.6/53.6 kB\u001b[0m \u001b[31m6.8 MB/s\u001b[0m eta \u001b[36m0:00:00\u001b[0m\n",
            "\u001b[?25hCollecting email_validator>=2.0.0 (from fastapi>=0.95.2->chromadb)\n",
            "  Downloading email_validator-2.2.0-py3-none-any.whl (33 kB)\n",
            "Requirement already satisfied: anyio in /usr/local/lib/python3.10/dist-packages (from httpx>=0.27.0->chromadb) (3.7.1)\n",
            "Requirement already satisfied: certifi in /usr/local/lib/python3.10/dist-packages (from httpx>=0.27.0->chromadb) (2024.6.2)\n",
            "Requirement already satisfied: httpcore==1.* in /usr/local/lib/python3.10/dist-packages (from httpx>=0.27.0->chromadb) (1.0.5)\n",
            "Requirement already satisfied: idna in /usr/local/lib/python3.10/dist-packages (from httpx>=0.27.0->chromadb) (3.7)\n",
            "Requirement already satisfied: sniffio in /usr/local/lib/python3.10/dist-packages (from httpx>=0.27.0->chromadb) (1.3.1)\n",
            "Requirement already satisfied: h11<0.15,>=0.13 in /usr/local/lib/python3.10/dist-packages (from httpcore==1.*->httpx>=0.27.0->chromadb) (0.14.0)\n",
            "Requirement already satisfied: six>=1.9.0 in /usr/local/lib/python3.10/dist-packages (from kubernetes>=28.1.0->chromadb) (1.16.0)\n",
            "Requirement already satisfied: python-dateutil>=2.5.3 in /usr/local/lib/python3.10/dist-packages (from kubernetes>=28.1.0->chromadb) (2.8.2)\n",
            "Requirement already satisfied: google-auth>=1.0.1 in /usr/local/lib/python3.10/dist-packages (from kubernetes>=28.1.0->chromadb) (2.27.0)\n",
            "Requirement already satisfied: websocket-client!=0.40.0,!=0.41.*,!=0.42.*,>=0.32.0 in /usr/local/lib/python3.10/dist-packages (from kubernetes>=28.1.0->chromadb) (1.8.0)\n",
            "Requirement already satisfied: requests-oauthlib in /usr/local/lib/python3.10/dist-packages (from kubernetes>=28.1.0->chromadb) (1.3.1)\n",
            "Requirement already satisfied: oauthlib>=3.2.2 in /usr/local/lib/python3.10/dist-packages (from kubernetes>=28.1.0->chromadb) (3.2.2)\n",
            "Requirement already satisfied: urllib3>=1.24.2 in /usr/local/lib/python3.10/dist-packages (from kubernetes>=28.1.0->chromadb) (2.0.7)\n",
            "Collecting coloredlogs (from onnxruntime>=1.14.1->chromadb)\n",
            "  Downloading coloredlogs-15.0.1-py2.py3-none-any.whl (46 kB)\n",
            "\u001b[2K     \u001b[90m━━━━━━━━━━━━━━━━━━━━━━━━━━━━━━━━━━━━━━━━\u001b[0m \u001b[32m46.0/46.0 kB\u001b[0m \u001b[31m5.6 MB/s\u001b[0m eta \u001b[36m0:00:00\u001b[0m\n",
            "\u001b[?25hRequirement already satisfied: flatbuffers in /usr/local/lib/python3.10/dist-packages (from onnxruntime>=1.14.1->chromadb) (24.3.25)\n",
            "Requirement already satisfied: protobuf in /usr/local/lib/python3.10/dist-packages (from onnxruntime>=1.14.1->chromadb) (3.20.3)\n",
            "Requirement already satisfied: sympy in /usr/local/lib/python3.10/dist-packages (from onnxruntime>=1.14.1->chromadb) (1.12.1)\n",
            "Collecting deprecated>=1.2.6 (from opentelemetry-api>=1.2.0->chromadb)\n",
            "  Downloading Deprecated-1.2.14-py2.py3-none-any.whl (9.6 kB)\n",
            "Collecting importlib-metadata<=7.1,>=6.0 (from opentelemetry-api>=1.2.0->chromadb)\n",
            "  Downloading importlib_metadata-7.1.0-py3-none-any.whl (24 kB)\n",
            "Requirement already satisfied: googleapis-common-protos~=1.52 in /usr/local/lib/python3.10/dist-packages (from opentelemetry-exporter-otlp-proto-grpc>=1.2.0->chromadb) (1.63.1)\n",
            "Collecting opentelemetry-exporter-otlp-proto-common==1.25.0 (from opentelemetry-exporter-otlp-proto-grpc>=1.2.0->chromadb)\n",
            "  Downloading opentelemetry_exporter_otlp_proto_common-1.25.0-py3-none-any.whl (17 kB)\n",
            "Collecting opentelemetry-proto==1.25.0 (from opentelemetry-exporter-otlp-proto-grpc>=1.2.0->chromadb)\n",
            "  Downloading opentelemetry_proto-1.25.0-py3-none-any.whl (52 kB)\n",
            "\u001b[2K     \u001b[90m━━━━━━━━━━━━━━━━━━━━━━━━━━━━━━━━━━━━━━━━\u001b[0m \u001b[32m52.5/52.5 kB\u001b[0m \u001b[31m6.1 MB/s\u001b[0m eta \u001b[36m0:00:00\u001b[0m\n",
            "\u001b[?25hCollecting opentelemetry-instrumentation-asgi==0.46b0 (from opentelemetry-instrumentation-fastapi>=0.41b0->chromadb)\n",
            "  Downloading opentelemetry_instrumentation_asgi-0.46b0-py3-none-any.whl (14 kB)\n",
            "Collecting opentelemetry-instrumentation==0.46b0 (from opentelemetry-instrumentation-fastapi>=0.41b0->chromadb)\n",
            "  Downloading opentelemetry_instrumentation-0.46b0-py3-none-any.whl (29 kB)\n",
            "Collecting opentelemetry-semantic-conventions==0.46b0 (from opentelemetry-instrumentation-fastapi>=0.41b0->chromadb)\n",
            "  Downloading opentelemetry_semantic_conventions-0.46b0-py3-none-any.whl (130 kB)\n",
            "\u001b[2K     \u001b[90m━━━━━━━━━━━━━━━━━━━━━━━━━━━━━━━━━━━━━━━━\u001b[0m \u001b[32m130.5/130.5 kB\u001b[0m \u001b[31m14.3 MB/s\u001b[0m eta \u001b[36m0:00:00\u001b[0m\n",
            "\u001b[?25hCollecting opentelemetry-util-http==0.46b0 (from opentelemetry-instrumentation-fastapi>=0.41b0->chromadb)\n",
            "  Downloading opentelemetry_util_http-0.46b0-py3-none-any.whl (6.9 kB)\n",
            "Requirement already satisfied: setuptools>=16.0 in /usr/local/lib/python3.10/dist-packages (from opentelemetry-instrumentation==0.46b0->opentelemetry-instrumentation-fastapi>=0.41b0->chromadb) (67.7.2)\n",
            "Requirement already satisfied: wrapt<2.0.0,>=1.0.0 in /usr/local/lib/python3.10/dist-packages (from opentelemetry-instrumentation==0.46b0->opentelemetry-instrumentation-fastapi>=0.41b0->chromadb) (1.14.1)\n",
            "Collecting asgiref~=3.0 (from opentelemetry-instrumentation-asgi==0.46b0->opentelemetry-instrumentation-fastapi>=0.41b0->chromadb)\n",
            "  Downloading asgiref-3.8.1-py3-none-any.whl (23 kB)\n",
            "Collecting monotonic>=1.5 (from posthog>=2.4.0->chromadb)\n",
            "  Downloading monotonic-1.6-py2.py3-none-any.whl (8.2 kB)\n",
            "Collecting backoff>=1.10.0 (from posthog>=2.4.0->chromadb)\n",
            "  Downloading backoff-2.2.1-py3-none-any.whl (15 kB)\n",
            "Requirement already satisfied: annotated-types>=0.4.0 in /usr/local/lib/python3.10/dist-packages (from pydantic>=1.9->chromadb) (0.7.0)\n",
            "Requirement already satisfied: pydantic-core==2.18.4 in /usr/local/lib/python3.10/dist-packages (from pydantic>=1.9->chromadb) (2.18.4)\n",
            "Requirement already satisfied: charset-normalizer<4,>=2 in /usr/local/lib/python3.10/dist-packages (from requests>=2.28->chromadb) (3.3.2)\n",
            "Requirement already satisfied: huggingface-hub<1.0,>=0.16.4 in /usr/local/lib/python3.10/dist-packages (from tokenizers>=0.13.2->chromadb) (0.23.4)\n",
            "Requirement already satisfied: click>=8.0.0 in /usr/local/lib/python3.10/dist-packages (from typer>=0.9.0->chromadb) (8.1.7)\n",
            "Requirement already satisfied: shellingham>=1.3.0 in /usr/local/lib/python3.10/dist-packages (from typer>=0.9.0->chromadb) (1.5.4)\n",
            "Requirement already satisfied: rich>=10.11.0 in /usr/local/lib/python3.10/dist-packages (from typer>=0.9.0->chromadb) (13.7.1)\n",
            "Collecting httptools>=0.5.0 (from uvicorn[standard]>=0.18.3->chromadb)\n",
            "  Downloading httptools-0.6.1-cp310-cp310-manylinux_2_5_x86_64.manylinux1_x86_64.manylinux_2_17_x86_64.manylinux2014_x86_64.whl (341 kB)\n",
            "\u001b[2K     \u001b[90m━━━━━━━━━━━━━━━━━━━━━━━━━━━━━━━━━━━━━━━━\u001b[0m \u001b[32m341.4/341.4 kB\u001b[0m \u001b[31m23.7 MB/s\u001b[0m eta \u001b[36m0:00:00\u001b[0m\n",
            "\u001b[?25hCollecting python-dotenv>=0.13 (from uvicorn[standard]>=0.18.3->chromadb)\n",
            "  Downloading python_dotenv-1.0.1-py3-none-any.whl (19 kB)\n",
            "Collecting uvloop!=0.15.0,!=0.15.1,>=0.14.0 (from uvicorn[standard]>=0.18.3->chromadb)\n",
            "  Downloading uvloop-0.19.0-cp310-cp310-manylinux_2_17_x86_64.manylinux2014_x86_64.whl (3.4 MB)\n",
            "\u001b[2K     \u001b[90m━━━━━━━━━━━━━━━━━━━━━━━━━━━━━━━━━━━━━━━━\u001b[0m \u001b[32m3.4/3.4 MB\u001b[0m \u001b[31m65.3 MB/s\u001b[0m eta \u001b[36m0:00:00\u001b[0m\n",
            "\u001b[?25hCollecting watchfiles>=0.13 (from uvicorn[standard]>=0.18.3->chromadb)\n",
            "  Downloading watchfiles-0.22.0-cp310-cp310-manylinux_2_17_x86_64.manylinux2014_x86_64.whl (1.2 MB)\n",
            "\u001b[2K     \u001b[90m━━━━━━━━━━━━━━━━━━━━━━━━━━━━━━━━━━━━━━━━\u001b[0m \u001b[32m1.2/1.2 MB\u001b[0m \u001b[31m56.9 MB/s\u001b[0m eta \u001b[36m0:00:00\u001b[0m\n",
            "\u001b[?25hCollecting websockets>=10.4 (from uvicorn[standard]>=0.18.3->chromadb)\n",
            "  Downloading websockets-12.0-cp310-cp310-manylinux_2_5_x86_64.manylinux1_x86_64.manylinux_2_17_x86_64.manylinux2014_x86_64.whl (130 kB)\n",
            "\u001b[2K     \u001b[90m━━━━━━━━━━━━━━━━━━━━━━━━━━━━━━━━━━━━━━━━\u001b[0m \u001b[32m130.2/130.2 kB\u001b[0m \u001b[31m13.6 MB/s\u001b[0m eta \u001b[36m0:00:00\u001b[0m\n",
            "\u001b[?25hCollecting dnspython>=2.0.0 (from email_validator>=2.0.0->fastapi>=0.95.2->chromadb)\n",
            "  Downloading dnspython-2.6.1-py3-none-any.whl (307 kB)\n",
            "\u001b[2K     \u001b[90m━━━━━━━━━━━━━━━━━━━━━━━━━━━━━━━━━━━━━━━━\u001b[0m \u001b[32m307.7/307.7 kB\u001b[0m \u001b[31m30.4 MB/s\u001b[0m eta \u001b[36m0:00:00\u001b[0m\n",
            "\u001b[?25hRequirement already satisfied: cachetools<6.0,>=2.0.0 in /usr/local/lib/python3.10/dist-packages (from google-auth>=1.0.1->kubernetes>=28.1.0->chromadb) (5.3.3)\n",
            "Requirement already satisfied: pyasn1-modules>=0.2.1 in /usr/local/lib/python3.10/dist-packages (from google-auth>=1.0.1->kubernetes>=28.1.0->chromadb) (0.4.0)\n",
            "Requirement already satisfied: rsa<5,>=3.1.4 in /usr/local/lib/python3.10/dist-packages (from google-auth>=1.0.1->kubernetes>=28.1.0->chromadb) (4.9)\n",
            "Requirement already satisfied: filelock in /usr/local/lib/python3.10/dist-packages (from huggingface-hub<1.0,>=0.16.4->tokenizers>=0.13.2->chromadb) (3.15.3)\n",
            "Requirement already satisfied: fsspec>=2023.5.0 in /usr/local/lib/python3.10/dist-packages (from huggingface-hub<1.0,>=0.16.4->tokenizers>=0.13.2->chromadb) (2023.6.0)\n",
            "Requirement already satisfied: zipp>=0.5 in /usr/local/lib/python3.10/dist-packages (from importlib-metadata<=7.1,>=6.0->opentelemetry-api>=1.2.0->chromadb) (3.19.2)\n",
            "Requirement already satisfied: MarkupSafe>=2.0 in /usr/local/lib/python3.10/dist-packages (from jinja2>=2.11.2->fastapi>=0.95.2->chromadb) (2.1.5)\n",
            "Requirement already satisfied: markdown-it-py>=2.2.0 in /usr/local/lib/python3.10/dist-packages (from rich>=10.11.0->typer>=0.9.0->chromadb) (3.0.0)\n",
            "Requirement already satisfied: pygments<3.0.0,>=2.13.0 in /usr/local/lib/python3.10/dist-packages (from rich>=10.11.0->typer>=0.9.0->chromadb) (2.16.1)\n",
            "Requirement already satisfied: exceptiongroup in /usr/local/lib/python3.10/dist-packages (from anyio->httpx>=0.27.0->chromadb) (1.2.1)\n",
            "Collecting humanfriendly>=9.1 (from coloredlogs->onnxruntime>=1.14.1->chromadb)\n",
            "  Downloading humanfriendly-10.0-py2.py3-none-any.whl (86 kB)\n",
            "\u001b[2K     \u001b[90m━━━━━━━━━━━━━━━━━━━━━━━━━━━━━━━━━━━━━━━━\u001b[0m \u001b[32m86.8/86.8 kB\u001b[0m \u001b[31m10.3 MB/s\u001b[0m eta \u001b[36m0:00:00\u001b[0m\n",
            "\u001b[?25hRequirement already satisfied: mpmath<1.4.0,>=1.1.0 in /usr/local/lib/python3.10/dist-packages (from sympy->onnxruntime>=1.14.1->chromadb) (1.3.0)\n",
            "Requirement already satisfied: mdurl~=0.1 in /usr/local/lib/python3.10/dist-packages (from markdown-it-py>=2.2.0->rich>=10.11.0->typer>=0.9.0->chromadb) (0.1.2)\n",
            "Requirement already satisfied: pyasn1<0.7.0,>=0.4.6 in /usr/local/lib/python3.10/dist-packages (from pyasn1-modules>=0.2.1->google-auth>=1.0.1->kubernetes>=28.1.0->chromadb) (0.6.0)\n",
            "Building wheels for collected packages: pypika\n",
            "  Building wheel for pypika (pyproject.toml) ... \u001b[?25l\u001b[?25hdone\n",
            "  Created wheel for pypika: filename=PyPika-0.48.9-py2.py3-none-any.whl size=53726 sha256=894ffe1811319df52c562c233f171f2d6107a7641a4e9690c4d740d610cae0d4\n",
            "  Stored in directory: /root/.cache/pip/wheels/e1/26/51/d0bffb3d2fd82256676d7ad3003faea3bd6dddc9577af665f4\n",
            "Successfully built pypika\n",
            "Installing collected packages: pypika, monotonic, mmh3, websockets, uvloop, uvicorn, ujson, python-multipart, python-dotenv, overrides, orjson, opentelemetry-util-http, opentelemetry-proto, importlib-metadata, humanfriendly, httptools, dnspython, deprecated, chroma-hnswlib, bcrypt, backoff, asgiref, watchfiles, starlette, posthog, opentelemetry-exporter-otlp-proto-common, opentelemetry-api, email_validator, coloredlogs, opentelemetry-semantic-conventions, opentelemetry-instrumentation, onnxruntime, kubernetes, opentelemetry-sdk, opentelemetry-instrumentation-asgi, fastapi-cli, opentelemetry-instrumentation-fastapi, opentelemetry-exporter-otlp-proto-grpc, fastapi, chromadb\n",
            "  Attempting uninstall: importlib-metadata\n",
            "    Found existing installation: importlib_metadata 7.2.0\n",
            "    Uninstalling importlib_metadata-7.2.0:\n",
            "      Successfully uninstalled importlib_metadata-7.2.0\n",
            "Successfully installed asgiref-3.8.1 backoff-2.2.1 bcrypt-4.1.3 chroma-hnswlib-0.7.3 chromadb-0.5.3 coloredlogs-15.0.1 deprecated-1.2.14 dnspython-2.6.1 email_validator-2.2.0 fastapi-0.111.0 fastapi-cli-0.0.4 httptools-0.6.1 humanfriendly-10.0 importlib-metadata-7.1.0 kubernetes-30.1.0 mmh3-4.1.0 monotonic-1.6 onnxruntime-1.18.1 opentelemetry-api-1.25.0 opentelemetry-exporter-otlp-proto-common-1.25.0 opentelemetry-exporter-otlp-proto-grpc-1.25.0 opentelemetry-instrumentation-0.46b0 opentelemetry-instrumentation-asgi-0.46b0 opentelemetry-instrumentation-fastapi-0.46b0 opentelemetry-proto-1.25.0 opentelemetry-sdk-1.25.0 opentelemetry-semantic-conventions-0.46b0 opentelemetry-util-http-0.46b0 orjson-3.10.5 overrides-7.7.0 posthog-3.5.0 pypika-0.48.9 python-dotenv-1.0.1 python-multipart-0.0.9 starlette-0.37.2 ujson-5.10.0 uvicorn-0.30.1 uvloop-0.19.0 watchfiles-0.22.0 websockets-12.0\n"
          ]
        }
      ]
    },
    {
      "cell_type": "code",
      "source": [
        "from sentence_transformers import SentenceTransformer\n",
        "import numpy as np\n",
        "from openai import OpenAI\n",
        "import textwrap\n",
        "import chromadb"
      ],
      "metadata": {
        "id": "78cuJyTb0hfn"
      },
      "execution_count": 92,
      "outputs": []
    },
    {
      "cell_type": "code",
      "source": [
        "# we are using the alibaba model for embeddings. it is fast small and less accurate compared to large models\n",
        "model=SentenceTransformer('Alibaba-NLP/gte-base-en-v1.5',trust_remote_code=True)"
      ],
      "metadata": {
        "colab": {
          "base_uri": "https://localhost:8080/"
        },
        "id": "Yto1neW61sB5",
        "outputId": "b2ded939-116e-4369-cc56-18b8fbb9c117"
      },
      "execution_count": 14,
      "outputs": [
        {
          "output_type": "stream",
          "name": "stderr",
          "text": [
            "/usr/local/lib/python3.10/dist-packages/huggingface_hub/file_download.py:1132: FutureWarning: `resume_download` is deprecated and will be removed in version 1.0.0. Downloads always resume when possible. If you want to force a new download, use `force_download=True`.\n",
            "  warnings.warn(\n"
          ]
        }
      ]
    },
    {
      "cell_type": "code",
      "source": [
        "# we will get the data related to dentistry from wikipedia using web scrapping\n",
        "\n",
        "import requests\n",
        "from bs4 import BeautifulSoup\n",
        "\n",
        "url = \"https://en.wikipedia.org/wiki/Dentistry\"\n",
        "response = requests.get(url)\n",
        "soup = BeautifulSoup(response.content, 'html.parser')\n",
        "\n",
        "# Extract the content\n",
        "content = soup.find('div', {'id': 'bodyContent'}).get_text()\n",
        "paragraphs = content.split('\\n\\n') # chunking\n",
        "paragraphs"
      ],
      "metadata": {
        "colab": {
          "base_uri": "https://localhost:8080/"
        },
        "id": "upczX8L-56V3",
        "outputId": "cd27d954-48b5-401b-e9a2-ec54f305ca7f"
      },
      "execution_count": 93,
      "outputs": [
        {
          "output_type": "execute_result",
          "data": {
            "text/plain": [
              "['',\n",
              " '',\n",
              " 'From Wikipedia, the free encyclopedia',\n",
              " '\\nBranch of medicine',\n",
              " '\\nThis article contains too many pictures for its overall length. Relevant discussion may be found on the talk page. Please improve this article by removing indiscriminate collections of images or adjusting images that are sandwiching text in accordance with the Manual of Style on use of images. (Learn how and when to remove this message)\\nDentistryA dentist treats a patient with the help of a dental assistant.OccupationNames\\nDentist\\nDental Surgeon\\nDoctor\\n[1][nb 1]',\n",
              " 'Occupation typeProfessionActivity sectorsHealth care, Anatomy, Physiology, Pathology, Medicine, Pharmacology, SurgeryDescriptionCompetencies\\nSub-Millimeter Surgical Dexterity\\nKnowledge of human health, disease, pathology, and anatomy\\nCommunication/Interpersonal Skills\\nAnalytical Skills\\nCritical Thinking\\nEmpathy/Professionalism\\nEducation requiredDental DegreeFields ofemploymentPrivate practicesPrimary care clinicsHospitalsRelated jobsPhysiciandental assistantdental techniciandental hygienistvarious dental specialists\\nICD-9-CM23-24MeSHD003813[edit on Wikidata]\\nAn oral surgeon and dental assistant removing a wisdom tooth\\nDentistry, also known as dental medicine and oral medicine, is the branch of medicine focused on the teeth, gums, and mouth. It consists of the study, diagnosis, prevention, management, and treatment of diseases, disorders, and conditions of the mouth, most commonly focused on dentition (the development and arrangement of teeth) as well as the oral mucosa.[2] Dentistry may also encompass other aspects of the craniofacial complex including the temporomandibular joint. The practitioner is called a dentist.\\nThe history of dentistry is almost as ancient as the history of humanity and civilization, with the earliest evidence dating from 7000 BC to 5500 BC.[3] Dentistry is thought to have been the first specialization in medicine which has gone on to develop its own accredited degree with its own specializations.[4] Dentistry is often also understood to subsume the now largely defunct medical specialty of stomatology (the study of the mouth and its disorders and diseases) for which reason the two terms are used interchangeably in certain regions. However, some specialties such as oral and maxillofacial surgery (facial reconstruction) may require both medical and dental degrees to accomplish. In European history, dentistry is considered to have stemmed from the trade of barber surgeons.[5]\\nDental treatments are carried out by a dental team, which often consists of a dentist and dental auxiliaries (such as dental assistants, dental hygienists, dental technicians, and dental therapists). Most dentists either work in private practices (primary care), dental hospitals, or (secondary care) institutions (prisons, armed forces bases, etc.).\\nThe modern movement of evidence-based dentistry calls for the use of high-quality scientific research and evidence to guide decision-making such as in manual tooth conservation, use of fluoride water treatment and fluoride toothpaste, dealing with oral diseases such as tooth decay and periodontitis, as well as systematic diseases such as osteoporosis, diabetes, celiac disease, cancer, and HIV/AIDS which could also affect the oral cavity. Other practices relevant to evidence-based dentistry include radiology of the mouth to inspect teeth deformity or oral malaises, haematology (study of blood) to avoid bleeding complications during dental surgery, cardiology (due to various severe complications arising from dental surgery with patients with heart disease), etc.',\n",
              " \"\\nTerminology[edit]\\nThe term dentistry comes from dentist, which comes from French dentiste, which comes from the French and Latin words for tooth.[6] The term for the associated scientific study of teeth is odontology (from Ancient Greek: ὀδούς, romanized:\\xa0odoús, lit.\\u2009'tooth') – the study of the structure, development, and abnormalities of the teeth.\",\n",
              " 'Dental treatment[edit]\\nDentistry usually encompasses practices related to the oral cavity.[7] According to the World Health Organization, oral diseases are major public health problems due to their high incidence and prevalence across the globe, with the disadvantaged affected more than other socio-economic groups.[8]\\nThe majority of dental treatments are carried out to prevent or treat the two most common oral diseases which are dental caries (tooth decay) and periodontal disease (gum disease or pyorrhea). Common treatments involve the restoration of teeth, extraction or surgical removal of teeth, scaling and root planing, endodontic root canal treatment, and cosmetic dentistry[9]\\nBy nature of their general training, dentists, without specialization can carry out the majority of dental treatments such as restorative (fillings, crowns, bridges), prosthetic (dentures), endodontic (root canal) therapy, periodontal (gum) therapy, and extraction of teeth, as well as performing examinations, radiographs (x-rays), and diagnosis. Dentists can also prescribe medications used in the field such as antibiotics, sedatives, and any other drugs used in patient management. Depending on their licensing boards, general dentists may be required to complete additional training to perform sedation, dental implants, etc.',\n",
              " 'Irreversible enamel defects caused by an untreated celiac disease. They may be the only clue to its diagnosis, even in absence of gastrointestinal symptoms, but are often confused with fluorosis, tetracycline discoloration, acid reflux or other causes.[10][11][12] The National Institutes of Health include a dental exam in the diagnostic protocol of celiac disease.[10]\\nDentists also encourage the prevention of oral diseases through proper hygiene and regular, twice or more yearly, checkups for professional cleaning and evaluation. Oral infections and inflammations may affect overall health and conditions in the oral cavity may be indicative of systemic diseases, such as osteoporosis, diabetes, celiac disease or cancer.[7][10][13][14] Many studies have also shown that gum disease is associated with an increased risk of diabetes, heart disease, and preterm birth. The concept that oral health can affect systemic health and disease is referred to as \"oral-systemic health\".',\n",
              " 'Education and licensing[edit]\\nMain article: Dentistry throughout the world\\nA sagittal cross-section of a molar tooth; 1: crown, 2: root, 3: enamel, 4: dentin and dentin tubules, 5: pulp chamber, 6: blood vessels and nerve, 7: periodontal ligament, 8: apex and periapical region, 9: alveolar bone\\nEarly dental chair in Pioneer West Museum in Shamrock, Texas\\nJohn M. Harris started the world\\'s first dental school in Bainbridge, Ohio, and helped to establish dentistry as a health profession. It opened on 21 February 1828, and today is a dental museum.[15] The first dental college, Baltimore College of Dental Surgery, opened in Baltimore, Maryland, US in 1840. The second in the United States was the Ohio College of Dental Surgery, established in Cincinnati, Ohio, in 1845.[16] The Philadelphia College of Dental Surgery followed in 1852.[17] In 1907, Temple University accepted a bid to incorporate the school.\\nStudies show that dentists that graduated from different countries,[18] or even from different dental schools in one country,[19] may make different clinical decisions for the same clinical condition. For example, dentists that graduated from Israeli dental schools may recommend the removal of asymptomatic impacted third molar (wisdom teeth) more often than dentists that graduated from Latin American or Eastern European dental schools.[20]\\nIn the United Kingdom, the first dental schools, the London School of Dental Surgery and the Metropolitan School of Dental Science, both in London, opened in 1859.[21] The British Dentists Act of 1878 and the 1879 Dentists Register limited the title of \"dentist\" and \"dental surgeon\" to qualified and registered practitioners.[22][23] However, others could legally describe themselves as \"dental experts\" or \"dental consultants\".[24] The practice of dentistry in the United Kingdom became fully regulated with the 1921 Dentists Act, which required the registration of anyone practising dentistry.[25] The British Dental Association, formed in 1880 with Sir John Tomes as president, played a major role in prosecuting dentists practising illegally.[22] Dentists in the United Kingdom are now regulated by the General Dental Council.\\nIn many countries, dentists usually complete between five and eight years of post-secondary education before practising. Though not mandatory, many dentists choose to complete an internship or residency focusing on specific aspects of dental care after they have received their dental degree. In a few countries, to become a qualified dentist one must usually complete at least four years of postgraduate study;[26] Dental degrees awarded around the world include the Doctor of Dental Surgery (DDS) and Doctor of Dental Medicine (DMD) in North America (US and Canada), and the Bachelor of Dental Surgery/Baccalaureus Dentalis Chirurgiae (BDS, BDent, BChD, BDSc) in the UK and current and former British Commonwealth countries.\\nAll dentists in the United States undergo at least three years of undergraduate studies, but nearly all complete a bachelor\\'s degree. This schooling is followed by four years of dental school to qualify as a \"Doctor of Dental Surgery\" (DDS) or \"Doctor of Dental Medicine\" (DMD). Specialization in dentistry is available in the fields of Anesthesiology, Dental Public Health, Endodontics, Oral Radiology, Oral and Maxillofacial Surgery, Oral Medicine, Orofacial Pain, Pathology, Orthodontics, Pediatric Dentistry (Pedodontics), Periodontics, and Prosthodontics.[27]',\n",
              " 'Specialties [edit]\\nMain article: Specialty (dentistry)\\nA modern dental clinic in Lappeenranta, Finland\\nSome dentists undertake further training after their initial degree in order to specialize. Exactly which subjects are recognized by dental registration bodies varies according to location. Examples include:',\n",
              " 'Anesthesiology[28] –  The specialty of dentistry that deals with the advanced use of general anesthesia, sedation and pain management to facilitate dental procedures.\\nCosmetic dentistry – Focuses on improving the appearance of the mouth, teeth and smile.\\nDental public health – The study of epidemiology and social health policies relevant to oral health.\\nEndodontics (also called endodontology) – Root canal therapy and study of diseases of the dental pulp and periapical tissues.\\nForensic odontology – The gathering and use of dental evidence in law. This may be performed by any dentist with experience or training in this field. The function of the forensic dentist is primarily documentation and verification of identity.\\nGeriatric dentistry or geriodontics – The delivery of dental care to older adults involving the diagnosis, prevention, and treatment of problems associated with normal aging and age-related diseases as part of an interdisciplinary team with other health care professionals.\\nOral and maxillofacial pathology – The study, diagnosis, and sometimes the treatment of oral and maxillofacial related diseases.\\nOral and maxillofacial radiology – The study and radiologic interpretation of oral and maxillofacial diseases.\\nOral and maxillofacial surgery (also called oral surgery) – Extractions, implants, and surgery of the jaws, mouth and face.[nb 2]\\nOral biology – Research in dental and craniofacial biology\\nOral Implantology – The art and science of replacing extracted teeth with dental implants.\\nOral medicine – The clinical evaluation and diagnosis of oral mucosal diseases\\nOrthodontics and dentofacial orthopedics  – The straightening of teeth and modification of midface and mandibular growth.\\nPediatric dentistry (also called pedodontics) – Dentistry for children\\nPeriodontology (also called periodontics) – The study and treatment of diseases of the periodontium (non-surgical and surgical) as well as placement and maintenance of dental implants\\nProsthodontics (also called prosthetic dentistry) – Dentures, bridges and the restoration of implants.\\nSome prosthodontists super-specialize in maxillofacial prosthetics, which is the discipline originally concerned with the rehabilitation of patients with congenital facial and oral defects such as cleft lip and palate or patients born with an underdeveloped ear (microtia). Today, most maxillofacial prosthodontists return function and esthetics to patients with acquired defects secondary to surgical removal of head and neck tumors, or secondary to trauma from war or motor vehicle accidents.\\nSpecial needs dentistry (also called special care dentistry) – Dentistry for those with developmental and acquired disabilities.\\nSports dentistry – the branch of sports medicine dealing with prevention and treatment of dental injuries and oral diseases associated with sports and exercise.[29] The sports dentist works as an individual consultant or as a member of the Sports Medicine Team.\\nVeterinary dentistry – The field of dentistry applied to the care of animals.  It is a specialty of veterinary medicine.[30][31]\\nHistory[edit]\\nSee also: History of dental treatments\\nA wealthy patient falling over because of having a tooth extracted with such vigour by a fashionable dentist, c.\\u20091790. History of Dentistry.\\nFarmer at the dentist, Johann Liss, c.\\u20091616–17\\nTooth decay was low in pre-agricultural societies, but the advent of farming society about 10,000 years ago correlated with an increase in tooth decay (cavities).[32] An infected tooth from Italy partially cleaned with flint tools, between 13,820 and 14,160 years old, represents the oldest known dentistry,[33] although a 2017 study suggests that 130,000 years ago the Neanderthals already used rudimentary dentistry tools.[34] The Indus valley has yielded evidence of dentistry being practised as far back as 7000 BC, during the Stone Age.[35] The Neolithic site of Mehrgarh (now in Pakistan\\'s south western province of Balochistan) indicates that this form of dentistry involved curing tooth related disorders with bow drills operated, perhaps, by skilled bead-crafters.[3] The reconstruction of this ancient form of dentistry showed that the methods used were reliable and effective.[36] The earliest dental filling, made of beeswax, was discovered in Slovenia and dates from 6500 years ago.[37] Dentistry was practised in prehistoric Malta, as evidenced by a skull which had a dental abscess lanced from the root of a tooth dating back to around 2500 BC.[38]\\nAn ancient Sumerian text describes a \"tooth worm\" as the cause of dental caries.[39] Evidence of this belief has also been found in ancient India, Egypt, Japan, and China. The legend of the worm is also found in the Homeric Hymns,[40] and as late as the 14th century AD the surgeon Guy de Chauliac still promoted the belief that worms cause tooth decay.[41]\\nRecipes for the treatment of toothache, infections and loose teeth are spread throughout the Ebers Papyrus, Kahun Papyri, Brugsch Papyrus, and Hearst papyrus of Ancient Egypt.[42] The Edwin Smith Papyrus, written in the 17th century BC but which may reflect previous manuscripts from as early as 3000 BC, discusses the treatment of dislocated or fractured jaws.[42][43] In the 18th century BC, the Code of Hammurabi referenced dental extraction twice as it related to punishment.[44] Examination of the remains of some ancient Egyptians and Greco-Romans reveals early attempts at dental prosthetics.[45] However, it is possible the prosthetics were prepared after death for aesthetic reasons.[42]\\nAncient Greek scholars Hippocrates and Aristotle wrote about dentistry, including the eruption pattern of teeth, treating decayed teeth and gum disease, extracting teeth with forceps, and using wires to stabilize loose teeth and fractured jaws.[46] Some say the first use of dental appliances or bridges comes from the Etruscans from as early as 700 BC.[47] The Phoenicians crafted the oldest documented dentures during the 6th–4th century BC, fashioning them from gold wire and incorporating two ivory teeth.[48] In ancient Egypt, Hesy-Ra is the first named \"dentist\" (greatest of the teeth). The Egyptians bound replacement teeth together with gold wire. Roman medical writer Cornelius Celsus wrote extensively of oral diseases as well as dental treatments such as narcotic-containing emollients and astringents.[49] The earliest dental amalgams were first documented in a Tang dynasty medical text written by the Chinese physician Su Kung in 659, and appeared in Germany in 1528.[50][51]\\nDuring the Islamic Golden Age Dentistry was discussed in several famous books of medicine such as The Canon in medicine written by Avicenna and Al-Tasreef by Al-Zahrawi who is considered the greatest surgeon of the Middle Ages,[52] Avicenna said that jaw fracture should be reduced according to the occlusal guidance of the teeth; this principle is still valid in modern times. Al-Zahrawi invented over 200 surgical tools that resemble the modern kind.[53]\\nHistorically, dental extractions have been used to treat a variety of illnesses. During the Middle Ages and throughout the 19th century, dentistry was not a profession in itself, and often dental procedures were performed by barbers or general physicians. Barbers usually limited their practice to extracting teeth which alleviated pain and associated chronic tooth infection. Instruments used for dental extractions date back several centuries. In the 14th century, Guy de Chauliac most probably invented the dental pelican[54] (resembling a pelican\\'s beak) which was used to perform dental extractions up until the late 18th century. The pelican was replaced by the dental key[55] which, in turn, was replaced by modern forceps in the 19th century.[56]',\n",
              " 'Dental needle-nose pliers designed by Fauchard in the late 17th century to use in prosthodontics\\nThe first book focused solely on dentistry was the \"Artzney Buchlein\" in 1530,[46] and the first dental textbook written in English was called \"Operator for the Teeth\" by Charles Allen in 1685.[23]\\nIn the United Kingdom, there was no formal qualification for the providers of dental treatment until 1859 and it was only in 1921 that the practice of dentistry was limited to those who were professionally qualified. The Royal Commission on the National Health Service in 1979 reported that there were then more than twice as many registered dentists per 10,000 population in the UK than there were in 1921.[57]',\n",
              " 'Modern dentistry[edit]\\nA microscopic device used in dental analysis, c.\\u20091907\\nIt was between 1650 and 1800 that the science of modern dentistry developed. The English physician Thomas Browne in his A Letter to a Friend (c.\\u20091656 pub. 1690) made an early dental observation with characteristic humour:',\n",
              " 'The Egyptian Mummies that I have seen, have had their Mouths open, and somewhat gaping, which affordeth a good opportunity to view and observe their Teeth, wherein \\'tis not easie to find any wanting or decayed: and therefore in Egypt, where one Man practised but one Operation, or the Diseases but of single Parts, it must needs be a barren Profession to confine unto that of drawing of Teeth, and little better than to have been Tooth-drawer unto King Pyrrhus, who had but two in his Head.\\nThe French surgeon Pierre Fauchard became known as the \"father of modern dentistry\". Despite the limitations of the primitive surgical instruments during the late 17th and early 18th century, Fauchard was a highly skilled surgeon who made remarkable improvisations of dental instruments, often adapting tools from watchmakers, jewelers and even barbers, that he thought could be used in dentistry. He introduced dental fillings as treatment for dental cavities. He asserted that sugar-derived acids like tartaric acid were responsible for dental decay, and also suggested that tumors surrounding the teeth and in the gums could appear in the later stages of tooth decay.[58][59]',\n",
              " 'Panoramic radiograph of historic dental implants, made 1978\\nFauchard was the pioneer of dental prosthesis, and he invented many methods to replace lost teeth. He suggested that substitutes could be made from carved blocks of ivory or bone. He also introduced dental braces, although they were initially made of gold, he discovered that the teeth position could be corrected as the teeth would follow the pattern of the wires. Waxed linen or silk threads were usually employed to fasten the braces. His contributions to the world of dental science consist primarily of his 1728 publication Le chirurgien dentiste or The Surgeon Dentist. The French text included \"basic oral anatomy and function, dental construction, and various operative and restorative techniques, and effectively separated dentistry from the wider category of surgery\".[58][59]',\n",
              " \"A modern dentist's chair\\nAfter Fauchard, the study of dentistry rapidly expanded. Two important books, Natural History of Human Teeth (1771) and Practical Treatise on the Diseases of the Teeth (1778), were published by British surgeon John Hunter. In 1763, he entered into a period of collaboration with the London-based dentist James Spence. He began to theorise about the possibility of tooth transplants from one person to another. He realised that the chances of a successful tooth transplant (initially, at least) would be improved if the donor tooth was as fresh as possible and was matched for size with the recipient. These principles are still used in the transplantation of internal organs. Hunter conducted a series of pioneering operations, in which he attempted a tooth transplant. Although the donated teeth never properly bonded with the recipients' gums, one of Hunter's patients stated that he had three which lasted for six years, a remarkable achievement for the period.[60]\\nMajor advances in science were made in the 19th century, and dentistry evolved from a trade to a profession. The profession came under government regulation by the end of the 19th century. In the UK, the Dentist Act was passed in 1878 and the British Dental Association formed in 1879. In the same year, Francis Brodie Imlach was the first ever dentist to be elected President of the Royal College of Surgeons (Edinburgh), raising dentistry onto a par with clinical surgery for the first time.[61]\",\n",
              " 'Hazards in modern dentistry[edit]\\nMain article: Occupational hazards in dentistry\\nLong term occupational noise exposure can contribute to permanent hearing loss, which is referred to as noise-induced hearing loss (NIHL) and tinnitus. Noise exposure can cause excessive stimulation of the hearing mechanism, which damages the delicate structures of the inner ear.[62] NIHL can occur when an individual is exposed to sound levels above 90 dBA according to the Occupational Safety and Health Administration (OSHA). Regulations state that the permissible noise exposure levels for individuals is 90 dBA.[63] For the National Institute for Occupational Safety and Health (NIOSH), exposure limits are set to 85 dBA. Exposures below 85 dBA are not considered to be hazardous. Time limits are placed on how long an individual can stay in an environment above 85 dBA before it causes hearing loss. OSHA places that limitation at 8 hours for 85 dBA. The exposure time becomes shorter as the dBA level increases.\\nWithin the field of dentistry, a variety of cleaning tools are used including piezoelectric and sonic scalers, and ultrasonic scalers and cleaners.[64] While a majority of the tools do not exceed 75 dBA,[65] prolonged exposure over many years can lead to hearing loss or complaints of tinnitus.[66] Few dentists have reported using personal hearing protective devices,[67][68] which could offset any potential hearing loss or tinnitus.',\n",
              " \"Evidence-based dentistry[edit]\\nMain article: Evidence-based dentistry\\nThere is a movement in modern dentistry to place a greater emphasis on high-quality scientific evidence in decision-making. Evidence-based dentistry (EBD) uses current scientific evidence to guide decisions. It is an approach to oral health that requires the application and examination of relevant scientific data related to the patient's oral and medical health. Along with the dentist's professional skill and expertise, EBD allows dentists to stay up to date on the latest procedures and patients to receive improved treatment. A new paradigm for medical education designed to incorporate current research into education and practice was developed to help practitioners provide the best care for their patients.[69] It was first introduced by Gordon Guyatt and the Evidence-Based Medicine Working Group at McMaster University in Ontario, Canada in the 1990s. It is part of the larger movement toward evidence-based medicine and other evidence-based practices, especially since a major part of dentistry involves dealing with oral and systemic diseases. Other issues relevant to the dental field in terms of evidence-based research and evidence-based practice include population oral health, dental clinical practice, tooth morphology etc. \",\n",
              " 'A Dental Chair at the University of Michigan School of Dentistry\\nEthical and medicolegal issues[edit]\\nDentistry is unique in that it requires dental students to have competence-based clinical skills that can only be acquired through supervised specialized laboratory training and direct patient care.[70] This necessitates the need for a scientific and professional basis of care with a foundation of extensive research-based education.[71] According to some experts, the accreditation of dental schools can enhance the quality and professionalism of dental education.[72][73]',\n",
              " 'See also[edit]',\n",
              " 'Medicine portal\\nList of dental organizations\\nDental aerosol\\nDental instrument\\nBy country\\nDentistry in Canada\\nDentistry in the Philippines\\nDentistry in Israel\\nDentistry in the United Kingdom\\nDentistry in the United States',\n",
              " 'Notes[edit]',\n",
              " '\\n^ Whether Dentists are referred to as \"Doctor\" is subject to geographic variation. For example, they are called \"Doctor\" in the US. In the UK, dentists have traditionally been referred to as \"Mister\" as they identified themselves with barber surgeons more than physicians (as do surgeons in the UK, see Surgeon#Titles). However more UK dentists now refer to themselves as \"Doctor\", although this was considered to be potentially misleading by the British public in a single report  (see Costley and Fawcett 2010).',\n",
              " '^ The scope of Oral and maxillofacial surgery is variable. In some countries, both a medical and dental degree is required for training, and the scope includes head and neck oncology and craniofacial deformity.',\n",
              " '\\nReferences[edit]',\n",
              " '\\n^ Neil Costley; Jo Fawcett (November 2010). General Dental Council Patient and Public Attitudes to Standards for Dental Professionals, Ethical Guidance and Use of the Term Doctor (PDF) (Report). General Dental Council/George Street Research. Archived from the original (PDF) on 4 March 2016. Retrieved 11 January 2017.',\n",
              " '^ \"Glossary of Dental Clinical and Administrative Terms\". American Dental Association. Archived from the original on 6 March 2016. Retrieved 1 February 2014.',\n",
              " '^ a b \"Stone age man used dentist drill\". BBC News. 6 April 2006. Retrieved 24 May 2010.',\n",
              " '^ Suddick, RP; Harris, NO (1990). \"Historical perspectives of oral biology: a series\". Critical Reviews in Oral Biology and Medicine. 1 (2): 135–51. doi:10.1177/10454411900010020301. PMID\\xa02129621.',\n",
              " '^ \"When barbers were surgeons and surgeons were barbers\". Radio National. 15 April 2015. Retrieved 10 September 2021.',\n",
              " '^ \"dentistry\". Etymonline.com. Retrieved 17 May 2018.',\n",
              " '^ a b Gambhir RS (2015). \"Primary care in dentistry – an untapped potential\". Journal of Family Medicine and Primary Care (Review). 4 (1): 13–18. doi:10.4103/2249-4863.152239. PMC\\xa04366984. PMID\\xa025810982.',\n",
              " '^ \"What is the burden of oral disease?\". WHO. Archived from the original on 30 June 2004. Retrieved 6 June 2017.',\n",
              " '^ \"American Academy of Cosmetic Dentistry | Dental CE Courses\". aacd.com. Retrieved 21 October 2019.',\n",
              " '^ a b c \"Diagnosis of Celiac Disease\". National Institute of Health (NIH). Archived from the original on 15 May 2017. Retrieved 6 June 2017.{{cite web}}:  CS1 maint: bot: original URL status unknown (link)',\n",
              " '^ Dental Enamel Defects and Celiac Disease Archived March 5, 2016, at the Wayback Machine National Institute of Health (NIH)',\n",
              " '^ Pastore L, Carroccio A, Compilato D, Panzarella V, Serpico R, Lo Muzio L (2008). \"Oral manifestations of celiac disease\". J Clin Gastroenterol (Review). 42 (3): 224–32. doi:10.1097/MCG.0b013e318074dd98. hdl:10447/1671. PMID\\xa018223505. S2CID\\xa0205776755.',\n",
              " '^ Estrella MR, Boynton JR (2010). \"General dentistry\\'s role in the care for children with special needs: a review\". Gen Dent (Review). 58 (3): 222–29. PMID\\xa020478802.',\n",
              " '^ da Fonseca MA (2010). \"Dental and oral care for chronically ill children and adolescents\". Gen Dent (Review). 58 (3): 204–09, quiz 210–11. PMID\\xa020478800.',\n",
              " '^ Owen, Lorrie K., ed. Dictionary of Ohio Historic Places. Vol. 2. St. Clair Shores: Somerset, 1999, 1217–1218.',\n",
              " '^ Mary, Otto (2017). Teeth: the story of beauty, inequality, and the struggle for oral health in America. New York: The New Press. p.\\xa070. ISBN\\xa0978-1-62097-144-4. OCLC\\xa0958458166.',\n",
              " '^ \"History\". Pennsylvania School of Dental Medicine. Retrieved 13 January 2016.',\n",
              " '^ Zadik Yehuda; Levin Liran (January 2008). \"Clinical decision making in restorative dentistry, endodontics, and antibiotic prescription\". J Dent Educ. 72 (1): 81–86. doi:10.1002/j.0022-0337.2008.72.1.tb04456.x. PMID\\xa018172239.',\n",
              " '^ Zadik Yehuda; Levin Liran (April 2006). \"Decision making of Hebrew University and Tel Aviv University Dental Schools graduates in every day dentistry—is there a difference?\". J Isr Dent Assoc. 23 (2): 19–23. PMID\\xa016886872.',\n",
              " '^ Zadik Yehuda; Levin Liran (April 2007). \"Decision making of Israeli, East European, and South American dental school graduates in third molar surgery: is there a difference?\". J Oral Maxillofac Surg. 65 (4): 658–62. doi:10.1016/j.joms.2006.09.002. PMID\\xa017368360.',\n",
              " '^ Gelbier, Stanley (1 October 2005). \"Dentistry and the University of London\". Medical History. 49 (4): 445–462. doi:10.1017/s0025727300009157. PMC\\xa01251639. PMID\\xa016562330.',\n",
              " '^ a b Gelbier, Stanley. 125 Years of Developments in Dentistry. British Dental Journal (2005); 199, 470–73. The 1879 register is referred to as the \"Dental Register\".',\n",
              " '^ a b The story of dentistry: Dental History Timeline Archived 9 March 2012 at the Wayback Machine, hosted on the British Dental Association website. Page accessed 2 March 2010.',\n",
              " '^ J Menzies Campbell (8 February 1955). \"Banning Clerks, Colliers and other Charlatans\". The Glasgow Herald. p.\\xa03. Retrieved 5 April 2017.',\n",
              " '^ History of Dental Surgery in Edinburgh (PDF), hosted on the Royal College of Surgeons of Edinburgh website. Page accessed 11 December 2007.',\n",
              " '^ \"Dentistry (D.D.S. or D.M.D.)\" (PDF). Purdue.edu. Archived from the original (PDF) on 9 January 2017. Retrieved 17 May 2018.',\n",
              " '^ \"Canadian Dental Association\". cda-adc.ca. Retrieved 21 October 2019.',\n",
              " '^ \"Anesthesiology recognized as a dental specialty\". www.ada.org. Archived from the original on 21 September 2019. Retrieved 12 March 2019.',\n",
              " '^ \"Sports dentistry\". FDI World Dental Federation. Archived from the original on 23 October 2020. Retrieved 13 July 2020.',\n",
              " '^ \"AVDC Home\". Avdc.org. 29 November 2009. Retrieved 18 April 2010.',\n",
              " '^ \"EVDC web site\". Evdc.info. Archived from the original on 5 September 2018. Retrieved 18 April 2010.',\n",
              " '^ Barras, Colin (29 February 2016). \"How our ancestors drilled rotten teeth\". BBC. Archived from the original on 19 May 2017. Retrieved 1 March 2016.',\n",
              " '^ \"Oldest Dentistry Found in 14,000-Year-Old Tooth\". Discovery Channel. 16 July 2015. Archived from the original on 18 July 2015. Retrieved 21 July 2015.',\n",
              " '^ \"Analysis of Neanderthal teeth marks uncovers evidence of prehistoric dentistry\". The University of Kansas. 28 June 2017. Retrieved 1 July 2017.',\n",
              " '^ Coppa, A. et al. 2006. \"Early Neolithic tradition of dentistry\" (PDF). Nature. Volume 440. 6 April 2006.',\n",
              " '^ NBC News (2008). Dig uncovers ancient roots of dentistry.',\n",
              " '^ Bernardini, Federico; Tuniz, Claudio; Coppa, Alfredo; Mancini, Lucia; Dreossi, Diego; Eichert, Diane; Turco, Gianluca; Biasotto, Matteo; Terrasi, Filippo; De Cesare, Nicola; Hua, Quan; Levchenko, Vladimir (2012). \"Beeswax as Dental Filling on a Neolithic Human Tooth\". PLOS ONE. 7 (9): e44904. Bibcode:2012PLoSO...744904B. doi:10.1371/journal.pone.0044904. PMC\\xa03446997. PMID\\xa023028670.',\n",
              " '^ \"700 years added to Malta\\'s history\". Times of Malta. 16 March 2018. Archived from the original on 16 March 2018.',\n",
              " '^ \"History of Dentistry: Ancient Origins\". American Dental Association. Archived from the original on 5 July 2007. Retrieved 9 January 2007.',\n",
              " '^ TOWNEND, B. R. (1944). \"The Story of the Tooth-Worm\". Bulletin of the History of Medicine. 15 (1): 37–58. ISSN\\xa00007-5140. JSTOR\\xa044442797.',\n",
              " '^ Suddick Richard P., Harris Norman O. (1990). \"Historical Perspectives of Oral Biology: A Series\" (PDF). Critical Reviews in Oral Biology and Medicine. 1 (2): 135–51. doi:10.1177/10454411900010020301. PMID\\xa02129621. Archived from the original (PDF) on 18 December 2007.',\n",
              " '^ a b c Blomstedt, P. (2013). \"Dental surgery in ancient Egypt\". Journal of the History of Dentistry. 61 (3): 129–42. PMID\\xa024665522.',\n",
              " '^ Ancient Egyptian Dentistry, hosted on the University of Oklahoma website. Page accessed 15 December 2007. Version archived by the Wayback Machine on 26 December 2007.',\n",
              " '^ Wilwerding, Terry. \"History of Dentistry 2001\" (PDF). Archived from the original (PDF) on 3 November 2014. Retrieved 3 November 2014.',\n",
              " '^ \"Medicine in Ancient Egypt 3\". Arabworldbooks.com. Retrieved 18 April 2010.',\n",
              " '^ a b \"History Of Dentistry\". Complete Dental Guide. Archived from the original on 14 July 2016. Retrieved 29 June 2016.',\n",
              " '^ \"History of Dentistry Research Page, Newsletter\". Rcpsg.ac.uk. Archived from the original on 28 April 2015. Retrieved 9 June 2014.',\n",
              " '^ Renfrew, Colin; Bahn, Paul (2012). Archaeology: Theories, Methods, and Practice (6th\\xa0ed.). Thames & Hudson. p.\\xa0449. ISBN\\xa0978-0-500-28976-1.',\n",
              " '^ \"Dental Treatment in the Ancient Times\". Dentaltreatment.org.uk. Archived from the original on 1 December 2009. Retrieved 18 April 2010.',\n",
              " '^ Bjørklund G (1989). \"The history of dental amalgam (in Norwegian)\". Tidsskr Nor Laegeforen. 109 (34–36): 3582–85. PMID\\xa02694433.',\n",
              " '^ Czarnetzki, A.; Ehrhardt S. (1990). \"Re-dating the Chinese amalgam-filling of teeth in Europe\". International Journal of Anthropology. 5 (4): 325–32.',\n",
              " '^ Meri, Josef (2005). Medieval Islamic Civilization: An Encyclopedia (Routledge Encyclopedias of the Middle Ages). Psychology Press. ISBN\\xa0978-0-415-96690-0.',\n",
              " '^ Friedman, Saul S. (2006). A history of the Middle East. Jefferson, N.C.: Mcfarland. p.\\xa0152. ISBN\\xa00786451343.',\n",
              " '^ Gregory Ribitzky. \"Pelican\". Retrieved 23 June 2018.',\n",
              " '^ Gregory Ribitzky. \"Toothkey\". Retrieved 23 June 2018.',\n",
              " '^ Gregory Ribitzky. \"Forceps\". Retrieved 23 June 2018.',\n",
              " '^ Royal Commission on the NHS Chapter 9. HMSO. July 1979. ISBN\\xa0978-0-10-176150-5. Retrieved 19 May 2015.',\n",
              " '^ a b André Besombes; Phillipe de Gaillande (1993). Pierre Fauchard (1678–1761): The First Dental Surgeon, His Work, His Actuality. Pierre Fauchard Academy.',\n",
              " '^ a b Bernhard Wolf Weinberger (1941). Pierre Fauchard, Surgeon-dentist: A Brief Account of the Beginning of Modern Dentistry, the First Dental Textbook, and Professional Life Two Hundred Years Ago. Pierre Fauchard Academy.',\n",
              " '^ Moore, Wendy (30 September 2010). The Knife Man. Transworld. pp.\\xa0223–24. ISBN\\xa0978-1-4090-4462-8. Retrieved 8 March 2012.',\n",
              " '^ Dingwall, Helen (April 2004). \"A pioneering history: dentistry and the Royal College of Surgeons of Edinburgh\" (PDF). History of Dentistry Newsletter. No.\\xa014. Archived from the original (PDF) on 1 February 2013.',\n",
              " '^ \"Noise-Induced Hearing Loss\". NIDCD. 18 August 2015.',\n",
              " '^ \"Occupational Safety and Health Standards | Occupational Safety and Health Administration\". Osha.gov.',\n",
              " '^ Stevens, M (1999). \"Is someone listening to the din of occupational noise exposure in dentistry\". RDH (19): 34–85.',\n",
              " '^ Merrel, HB (1992). \"Noise pollution and hearing loss in the dental office\". Dental Assisting Journal. 61 (3): 6–9.',\n",
              " '^ Wilson, J.D. (2002). \"Effects of occupational ultrasonic noise exposure on hearing of dental hygienists: A pilot study\". Journal of Dental Hygiene. 76 (4): 262–69. PMID\\xa012592917.',\n",
              " '^ Leggat, P.A. (2007). \"Occupational Health Problems in Modern Dentistry: A Review\" (PDF). Industrial Health. 45 (5): 611–21. doi:10.2486/indhealth.45.611. PMID\\xa018057804. Archived (PDF) from the original on 27 April 2019.',\n",
              " '^ Leggat, P.A. (2001). \"Occupational hygiene practices of dentists in southern Thailand\". International Dental Journal. 51 (51): 11–6. doi:10.1002/j.1875-595x.2001.tb00811.x. PMID\\xa011326443.',\n",
              " '^ Evidence-Based Medicine Working Group (1992). \"Evidence-based medicine. A new approach to teaching the practice of medicine\". Journal of the American Medical Association. 268 (17): 2420–2425. doi:10.1001/jama.1992.03490170092032. PMID\\xa01404801.',\n",
              " '^ \"Union workers build high-tech dental simulation laboratory for SIU dental school\". The Labor Tribune. 17 March 2014. Retrieved 10 September 2021.',\n",
              " '^ Slavkin, Harold C. (January 2012). \"Evolution of the scientific basis for dentistry and its impact on dental education: past, present, and future\". Journal of Dental Education. 76 (1): 28–35. doi:10.1002/j.0022-0337.2012.76.1.tb05231.x. ISSN\\xa01930-7837. PMID\\xa022262547.',\n",
              " '^ Formicola, Allan J.; Bailit, Howard L.; Beazoglou, Tryfon J.; Tedesco, Lisa A. (February 2008). \"The interrelationship of accreditation and dental education: history and current environment\". Journal of Dental Education. 72 (2 Suppl): 53–60. doi:10.1002/j.0022-0337.2008.72.2_suppl.tb04480.x. ISSN\\xa00022-0337. PMID\\xa018250379.',\n",
              " '^ Carrrassi, A. (2019). \"The first 25 year [Internet] Ireland: ADEE (Association for Dental Education in Europe)\". Association for Dental Education in Europe. Retrieved 21 October 2019.',\n",
              " '\\nExternal links[edit]',\n",
              " \"\\nDentistry  at Wikipedia's sister projects\",\n",
              " 'Definitions from WiktionaryMedia from CommonsQuotations from WikiquoteTexts from WikisourceTextbooks from WikibooksResources from WikiversityData from Wikidata',\n",
              " 'Dentistry at Curlie\\nvteDentistrySpecialties\\nEndodontics\\nOral and maxillofacial pathology\\nOral and maxillofacial radiology\\nOral and maxillofacial surgery\\nOrthodontics and dentofacial orthopedics\\nPediatric dentistry\\nPeriodontics\\nProsthodontics\\nDental public health\\nCosmetic dentistry\\nDental implantology\\nGeriatric dentistry\\nRestorative dentistry\\nForensic odontology\\nDental traumatology\\nHolistic dentistry\\nDental surgery\\nDental extraction\\nTooth filling\\nRoot canal therapy\\nRoot end surgery\\nScaling and root planing\\nTeeth cleaning\\nDental bonding\\nTooth polishing\\nTooth bleaching\\nSocket preservation\\nDental implant\\nOrganisations\\nAmerican Association of Orthodontists\\nBritish Dental Association\\nBritish Dental Health Foundation\\nBritish Orthodontic Society\\nCanadian Association of Orthodontists\\nDental Technologists Association\\nGeneral Dental Council\\nIndian Dental Association\\nNational Health Service\\nBy country\\nCanada\\nPhilippines\\nIsrael\\nUnited Kingdom\\nUnited States\\nSee also\\nIndex of oral health and dental articles\\nOutline of dentistry and oral health\\nDental fear\\nDental instruments\\nDental material\\nHistory of dental treatments\\nAncient Rome\\nInfant oral mutilation\\nMouth assessment\\nOral hygiene',\n",
              " 'vteCleft lip and cleft palateRelated specialities\\nAdvance practice nursing\\nAudiology\\nDentistry\\nDietetics\\nGenetics\\nOral and maxillofacial surgery\\nOrthodontics\\nOrthodontic technology\\nOtolaryngology\\nPediatrics\\nPediatric dentistry\\nPhysician\\nPlastic surgery\\nPsychiatry\\nPsychology\\nRespiratory therapy\\nSocial work\\nSpeech and language therapy\\nRelated syndromes\\nHearing loss with craniofacial syndromes\\nPierre Robin syndrome\\nPopliteal pterygium syndrome\\nVan der Woude syndrome\\nNational and international  organisations\\nCleft Lip and Palate Association\\nCraniofacial Society of Great Britain and Ireland\\nInterplast\\nNorth Thames Regional Cleft Lip and Palate Service\\nOperation Smile\\nOverseas Plastic Surgery Appeal\\nShriners Hospitals for Children\\nSmile Train\\nTransforming Faces Worldwide\\nSmile Angel Foundation (China)',\n",
              " \"vteDental schoolsAmerican dental schools\\nUAB\\nArizona\\nAugusta (DCG)\\nBoston U (Goldman)\\nCalifornia (UCLA, UCSF)\\nCase Western Reserve\\nColorado\\nColumbia\\nConnecticut\\nCreighton\\nDetroit Mercy\\nEast Carolina\\nFlorida\\nHarvard\\nHoward\\nIllinois–Chicago\\nIndiana\\nIowa\\nKentucky\\nLake Erie\\nLoma Linda\\nLouisville\\nLSU Health–New Orleans\\nMarquette\\nMaryland–Baltimore\\nMeharry\\nMichigan\\nMidwestern\\nMinnesota\\nMississippi\\nMissouri–Kansas City\\nNebraska–Medical Center\\nNevada–Las Vegas\\nNew England\\nNYU\\nSUNY (Buffalo, Stony Brook)\\nNorth Carolina\\nNova\\nOhio State\\nOklahoma\\nOregon\\nPacific (Dugoni)\\nPenn\\nPitt\\nPuerto Rico\\nRochester\\nRutgers\\nSouth Carolina\\nSouthern California (Ostrow)\\nSouthern Illinois–Edwardsville\\nTouro\\nTemple (Kornberg)\\nTennessee\\nTexas  (UT Health–Houston, UT Health–San Antonio)\\nTexas A&M\\nTexas Tech–El Paso (Hunt)\\nTufts\\nVCU\\nWashington\\nWesternU\\nWest Virginia\\nDefunct American dental schools\\nEmory\\nFairleigh Dickinson\\nGeorgetown\\nHarris\\nLoyola\\nNorthwestern\\nOhio College\\nOral Roberts\\nPennsylvania College\\nWash U\\nCanadian dental schools\\nAlberta\\nBritish Columbia\\nDalhousie\\nLaval\\nManitoba\\nMcGill\\nMontréal\\nSaskatchewan\\nToronto\\nWestern\\nBritish dental schools\\nAberdeen\\nBarts and The London School of Medicine and Dentistry\\nGlasgow\\nGuy's, King's & St Thomas's\\nLiverpool\\nNewcastle\\nPeninsula College of Medicine and Dentistry\\nUCL Eastman Dental Institute\\nAustralian and New Zealand dental schools\\nSydney\\nMelbourne\\nAdelaide\\nCharles Sturt University\\nGriffith University\\nJames Cook\\nLa Trobe\\nQueensland\\nWestern Australia\\nUniversity of Otago\\nSouth Korean dental schools\\nChonbuk\\nChonnam\\nChosun\\nDankook\\nGangneung-Wonju\\nKyung Hee\\nKyungpook\\nPusan\\nSeoul\\nWonkwang\\nYonsei\",\n",
              " 'vteMedicineSpecialtiesandsubspecialtiesSurgery\\nCardiac surgery\\nCardiothoracic surgery\\nEndocrine surgery\\nEye surgery\\nGeneral surgery\\nColorectal surgery\\nDigestive system surgery\\nNeurosurgery\\nOral and maxillofacial surgery\\nOrthopedic surgery\\nHand surgery\\nOtolaryngology\\nENT\\nPediatric surgery\\nPlastic surgery\\nReproductive surgery\\nSurgical oncology\\nTransplant surgery\\nTrauma surgery\\nUrology\\nAndrology\\nVascular surgery\\nInternalmedicine\\nAllergy\\xa0/ Immunology\\nAngiology\\nCardiology\\nEndocrinology\\nGastroenterology\\nHepatology\\nGeriatrics\\nHematology\\nHospital medicine\\nInfectious diseases\\nNephrology\\nOncology\\nPulmonology\\nRheumatology\\nObstetrics andgynaecology\\nGynaecology\\nGynecologic oncology\\nMaternal–fetal medicine\\nObstetrics\\nReproductive endocrinology and infertility\\nUrogynecology\\nDiagnostic\\nRadiology\\nInterventional radiology\\nNeuroradiology\\nNuclear medicine\\nPathology\\nAnatomical\\nClinical pathology\\nClinical chemistry\\nCytopathology\\nMedical microbiology\\nTransfusion medicine\\nOther\\nAddiction medicine\\nAdolescent medicine\\nAnesthesiology\\nObstetric anesthesiology\\nNeurosurgical anesthesiology\\nAviation medicine\\nDermatology\\nDisaster medicine\\nDiving medicine\\nEmergency medicine\\nMass gathering medicine\\nEvolutionary medicine\\nFamily medicine / General practice\\nHospital medicine\\nIntensive care medicine\\nMedical genetics\\nNarcology\\nNeurology\\nClinical neurophysiology\\nOccupational medicine\\nOphthalmology\\nOral medicine\\nPain management\\nPalliative care\\nPediatrics\\nNeonatology\\nPhlebology\\nPhysical medicine and rehabilitation (PM&R)\\nPreventive medicine\\nPrison healthcare\\nPsychiatry\\nAddiction psychiatry\\nRadiation oncology\\nReproductive medicine\\nSexual medicine\\nVenereology\\nSleep medicine\\nSports medicine\\nTransplantation medicine\\nTropical medicine\\nTravel medicine\\nMedicaleducation\\nMedical school\\nBachelor of Medicine, Bachelor of Surgery\\nBachelor of Medical Sciences\\nMaster of Medicine\\nMaster of Surgery\\nDoctor of Medicine\\nDoctor of Osteopathic Medicine\\nMD–PhD\\nMedical Scientist Training Program\\nRelated topics\\nAlternative medicine\\nAllied health\\nMolecular oncology\\nNanomedicine\\nPersonalized medicine\\nPublic health\\nRural health\\nTherapy\\nTraditional medicine\\nVeterinary medicine\\nPhysician\\nChief physician\\nHistory of medicine',\n",
              " ' Category\\n Commons\\n Wikiproject\\n Portal\\n Outline',\n",
              " 'Authority control databases National\\nFrance\\nBnF data\\nGermany\\nIsrael\\nUnited States\\nLatvia\\nCzech Republic\\nOther\\nHistorical Dictionary of Switzerland\\nNARA',\n",
              " '',\n",
              " '',\n",
              " 'Retrieved from \"https://en.wikipedia.org/w/index.php?title=Dentistry&oldid=1229204332\"\\nCategory: DentistryHidden categories: CS1 maint: bot: original URL status unknownWebarchive template wayback linksArticles with short descriptionShort description is different from WikidataUse dmy dates from June 2024Use American English from June 2016All Wikipedia articles written in American EnglishPages with too many photosArticles containing Ancient Greek (to 1453)-language textPages using Sister project links with wikidata namespace mismatchPages using Sister project links with hidden wikidataArticles with Curlie linksArticles with BNF identifiersArticles with BNFdata identifiersArticles with GND identifiersArticles with J9U identifiersArticles with LCCN identifiersArticles with LNB identifiersArticles with NKC identifiersArticles with HDS identifiersArticles with NARA identifiers\\n']"
            ]
          },
          "metadata": {},
          "execution_count": 93
        }
      ]
    },
    {
      "cell_type": "code",
      "source": [
        "cleaned_text = []\n",
        "for i,p in enumerate(paragraphs):\n",
        "  wrapped_text=textwrap.fill(p,width=70)\n",
        "  # print('----------------------------------------------------')\n",
        "  # print(wrapped_text)\n",
        "  # print('----------------------------------------------------')\n",
        "  cleaned_text.append(wrapped_text)\n",
        "print(cleaned_text)"
      ],
      "metadata": {
        "colab": {
          "base_uri": "https://localhost:8080/"
        },
        "id": "PGfOr58Q7XtN",
        "outputId": "c67bb1d3-d972-4917-b100-e73196142b2a"
      },
      "execution_count": 87,
      "outputs": [
        {
          "output_type": "stream",
          "name": "stdout",
          "text": [
            "['', '', 'From Wikipedia, the free encyclopedia', ' Branch of medicine', ' This article contains too many pictures for its overall length.\\nRelevant discussion may be found on the talk page. Please improve this\\narticle by removing indiscriminate collections of images or adjusting\\nimages that are sandwiching text in accordance with the Manual of\\nStyle on use of images. (Learn how and when to remove this message)\\nDentistryA dentist treats a patient with the help of a dental\\nassistant.OccupationNames Dentist Dental Surgeon Doctor [1][nb 1]', 'Occupation typeProfessionActivity sectorsHealth care, Anatomy,\\nPhysiology, Pathology, Medicine, Pharmacology,\\nSurgeryDescriptionCompetencies Sub-Millimeter Surgical Dexterity\\nKnowledge of human health, disease, pathology, and anatomy\\nCommunication/Interpersonal Skills Analytical Skills Critical Thinking\\nEmpathy/Professionalism Education requiredDental DegreeFields\\nofemploymentPrivate practicesPrimary care clinicsHospitalsRelated\\njobsPhysiciandental assistantdental techniciandental hygienistvarious\\ndental specialists ICD-9-CM23-24MeSHD003813[edit on Wikidata] An oral\\nsurgeon and dental assistant removing a wisdom tooth Dentistry, also\\nknown as dental medicine and oral medicine, is the branch of medicine\\nfocused on the teeth, gums, and mouth. It consists of the study,\\ndiagnosis, prevention, management, and treatment of diseases,\\ndisorders, and conditions of the mouth, most commonly focused on\\ndentition (the development and arrangement of teeth) as well as the\\noral mucosa.[2] Dentistry may also encompass other aspects of the\\ncraniofacial complex including the temporomandibular joint. The\\npractitioner is called a dentist. The history of dentistry is almost\\nas ancient as the history of humanity and civilization, with the\\nearliest evidence dating from 7000 BC to 5500 BC.[3] Dentistry is\\nthought to have been the first specialization in medicine which has\\ngone on to develop its own accredited degree with its own\\nspecializations.[4] Dentistry is often also understood to subsume the\\nnow largely defunct medical specialty of stomatology (the study of the\\nmouth and its disorders and diseases) for which reason the two terms\\nare used interchangeably in certain regions. However, some specialties\\nsuch as oral and maxillofacial surgery (facial reconstruction) may\\nrequire both medical and dental degrees to accomplish. In European\\nhistory, dentistry is considered to have stemmed from the trade of\\nbarber surgeons.[5] Dental treatments are carried out by a dental\\nteam, which often consists of a dentist and dental auxiliaries (such\\nas dental assistants, dental hygienists, dental technicians, and\\ndental therapists). Most dentists either work in private practices\\n(primary care), dental hospitals, or (secondary care) institutions\\n(prisons, armed forces bases, etc.). The modern movement of evidence-\\nbased dentistry calls for the use of high-quality scientific research\\nand evidence to guide decision-making such as in manual tooth\\nconservation, use of fluoride water treatment and fluoride toothpaste,\\ndealing with oral diseases such as tooth decay and periodontitis, as\\nwell as systematic diseases such as osteoporosis, diabetes, celiac\\ndisease, cancer, and HIV/AIDS which could also affect the oral cavity.\\nOther practices relevant to evidence-based dentistry include radiology\\nof the mouth to inspect teeth deformity or oral malaises, haematology\\n(study of blood) to avoid bleeding complications during dental\\nsurgery, cardiology (due to various severe complications arising from\\ndental surgery with patients with heart disease), etc.', \" Terminology[edit] The term dentistry comes from dentist, which comes\\nfrom French dentiste, which comes from the French and Latin words for\\ntooth.[6] The term for the associated scientific study of teeth is\\nodontology (from Ancient Greek: ὀδούς, romanized:\\xa0odoús, lit.\\u2009'tooth')\\n– the study of the structure, development, and abnormalities of the\\nteeth.\", 'Dental treatment[edit] Dentistry usually encompasses practices related\\nto the oral cavity.[7] According to the World Health Organization,\\noral diseases are major public health problems due to their high\\nincidence and prevalence across the globe, with the disadvantaged\\naffected more than other socio-economic groups.[8] The majority of\\ndental treatments are carried out to prevent or treat the two most\\ncommon oral diseases which are dental caries (tooth decay) and\\nperiodontal disease (gum disease or pyorrhea). Common treatments\\ninvolve the restoration of teeth, extraction or surgical removal of\\nteeth, scaling and root planing, endodontic root canal treatment, and\\ncosmetic dentistry[9] By nature of their general training, dentists,\\nwithout specialization can carry out the majority of dental treatments\\nsuch as restorative (fillings, crowns, bridges), prosthetic\\n(dentures), endodontic (root canal) therapy, periodontal (gum)\\ntherapy, and extraction of teeth, as well as performing examinations,\\nradiographs (x-rays), and diagnosis. Dentists can also prescribe\\nmedications used in the field such as antibiotics, sedatives, and any\\nother drugs used in patient management. Depending on their licensing\\nboards, general dentists may be required to complete additional\\ntraining to perform sedation, dental implants, etc.', 'Irreversible enamel defects caused by an untreated celiac disease.\\nThey may be the only clue to its diagnosis, even in absence of\\ngastrointestinal symptoms, but are often confused with fluorosis,\\ntetracycline discoloration, acid reflux or other causes.[10][11][12]\\nThe National Institutes of Health include a dental exam in the\\ndiagnostic protocol of celiac disease.[10] Dentists also encourage the\\nprevention of oral diseases through proper hygiene and regular, twice\\nor more yearly, checkups for professional cleaning and evaluation.\\nOral infections and inflammations may affect overall health and\\nconditions in the oral cavity may be indicative of systemic diseases,\\nsuch as osteoporosis, diabetes, celiac disease or\\ncancer.[7][10][13][14] Many studies have also shown that gum disease\\nis associated with an increased risk of diabetes, heart disease, and\\npreterm birth. The concept that oral health can affect systemic health\\nand disease is referred to as \"oral-systemic health\".', 'Education and licensing[edit] Main article: Dentistry throughout the\\nworld A sagittal cross-section of a molar tooth; 1: crown, 2: root, 3:\\nenamel, 4: dentin and dentin tubules, 5: pulp chamber, 6: blood\\nvessels and nerve, 7: periodontal ligament, 8: apex and periapical\\nregion, 9: alveolar bone Early dental chair in Pioneer West Museum in\\nShamrock, Texas John M. Harris started the world\\'s first dental school\\nin Bainbridge, Ohio, and helped to establish dentistry as a health\\nprofession. It opened on 21 February 1828, and today is a dental\\nmuseum.[15] The first dental college, Baltimore College of Dental\\nSurgery, opened in Baltimore, Maryland, US in 1840. The second in the\\nUnited States was the Ohio College of Dental Surgery, established in\\nCincinnati, Ohio, in 1845.[16] The Philadelphia College of Dental\\nSurgery followed in 1852.[17] In 1907, Temple University accepted a\\nbid to incorporate the school. Studies show that dentists that\\ngraduated from different countries,[18] or even from different dental\\nschools in one country,[19] may make different clinical decisions for\\nthe same clinical condition. For example, dentists that graduated from\\nIsraeli dental schools may recommend the removal of asymptomatic\\nimpacted third molar (wisdom teeth) more often than dentists that\\ngraduated from Latin American or Eastern European dental schools.[20]\\nIn the United Kingdom, the first dental schools, the London School of\\nDental Surgery and the Metropolitan School of Dental Science, both in\\nLondon, opened in 1859.[21] The British Dentists Act of 1878 and the\\n1879 Dentists Register limited the title of \"dentist\" and \"dental\\nsurgeon\" to qualified and registered practitioners.[22][23] However,\\nothers could legally describe themselves as \"dental experts\" or\\n\"dental consultants\".[24] The practice of dentistry in the United\\nKingdom became fully regulated with the 1921 Dentists Act, which\\nrequired the registration of anyone practising dentistry.[25] The\\nBritish Dental Association, formed in 1880 with Sir John Tomes as\\npresident, played a major role in prosecuting dentists practising\\nillegally.[22] Dentists in the United Kingdom are now regulated by the\\nGeneral Dental Council. In many countries, dentists usually complete\\nbetween five and eight years of post-secondary education before\\npractising. Though not mandatory, many dentists choose to complete an\\ninternship or residency focusing on specific aspects of dental care\\nafter they have received their dental degree. In a few countries, to\\nbecome a qualified dentist one must usually complete at least four\\nyears of postgraduate study;[26] Dental degrees awarded around the\\nworld include the Doctor of Dental Surgery (DDS) and Doctor of Dental\\nMedicine (DMD) in North America (US and Canada), and the Bachelor of\\nDental Surgery/Baccalaureus Dentalis Chirurgiae (BDS, BDent, BChD,\\nBDSc) in the UK and current and former British Commonwealth countries.\\nAll dentists in the United States undergo at least three years of\\nundergraduate studies, but nearly all complete a bachelor\\'s degree.\\nThis schooling is followed by four years of dental school to qualify\\nas a \"Doctor of Dental Surgery\" (DDS) or \"Doctor of Dental Medicine\"\\n(DMD). Specialization in dentistry is available in the fields of\\nAnesthesiology, Dental Public Health, Endodontics, Oral Radiology,\\nOral and Maxillofacial Surgery, Oral Medicine, Orofacial Pain,\\nPathology, Orthodontics, Pediatric Dentistry (Pedodontics),\\nPeriodontics, and Prosthodontics.[27]', 'Specialties [edit] Main article: Specialty (dentistry) A modern dental\\nclinic in Lappeenranta, Finland Some dentists undertake further\\ntraining after their initial degree in order to specialize. Exactly\\nwhich subjects are recognized by dental registration bodies varies\\naccording to location. Examples include:', 'Anesthesiology[28] –  The specialty of dentistry that deals with the\\nadvanced use of general anesthesia, sedation and pain management to\\nfacilitate dental procedures. Cosmetic dentistry – Focuses on\\nimproving the appearance of the mouth, teeth and smile. Dental public\\nhealth – The study of epidemiology and social health policies relevant\\nto oral health. Endodontics (also called endodontology) – Root canal\\ntherapy and study of diseases of the dental pulp and periapical\\ntissues. Forensic odontology – The gathering and use of dental\\nevidence in law. This may be performed by any dentist with experience\\nor training in this field. The function of the forensic dentist is\\nprimarily documentation and verification of identity. Geriatric\\ndentistry or geriodontics – The delivery of dental care to older\\nadults involving the diagnosis, prevention, and treatment of problems\\nassociated with normal aging and age-related diseases as part of an\\ninterdisciplinary team with other health care professionals. Oral and\\nmaxillofacial pathology – The study, diagnosis, and sometimes the\\ntreatment of oral and maxillofacial related diseases. Oral and\\nmaxillofacial radiology – The study and radiologic interpretation of\\noral and maxillofacial diseases. Oral and maxillofacial surgery (also\\ncalled oral surgery) – Extractions, implants, and surgery of the jaws,\\nmouth and face.[nb 2] Oral biology – Research in dental and\\ncraniofacial biology Oral Implantology – The art and science of\\nreplacing extracted teeth with dental implants. Oral medicine – The\\nclinical evaluation and diagnosis of oral mucosal diseases\\nOrthodontics and dentofacial orthopedics  – The straightening of teeth\\nand modification of midface and mandibular growth. Pediatric dentistry\\n(also called pedodontics) – Dentistry for children Periodontology\\n(also called periodontics) – The study and treatment of diseases of\\nthe periodontium (non-surgical and surgical) as well as placement and\\nmaintenance of dental implants Prosthodontics (also called prosthetic\\ndentistry) – Dentures, bridges and the restoration of implants. Some\\nprosthodontists super-specialize in maxillofacial prosthetics, which\\nis the discipline originally concerned with the rehabilitation of\\npatients with congenital facial and oral defects such as cleft lip and\\npalate or patients born with an underdeveloped ear (microtia). Today,\\nmost maxillofacial prosthodontists return function and esthetics to\\npatients with acquired defects secondary to surgical removal of head\\nand neck tumors, or secondary to trauma from war or motor vehicle\\naccidents. Special needs dentistry (also called special care\\ndentistry) – Dentistry for those with developmental and acquired\\ndisabilities. Sports dentistry – the branch of sports medicine dealing\\nwith prevention and treatment of dental injuries and oral diseases\\nassociated with sports and exercise.[29] The sports dentist works as\\nan individual consultant or as a member of the Sports Medicine Team.\\nVeterinary dentistry – The field of dentistry applied to the care of\\nanimals.  It is a specialty of veterinary medicine.[30][31]\\nHistory[edit] See also: History of dental treatments A wealthy patient\\nfalling over because of having a tooth extracted with such vigour by a\\nfashionable dentist, c.\\u20091790. History of Dentistry. Farmer at the\\ndentist, Johann Liss, c.\\u20091616–17 Tooth decay was low in pre-\\nagricultural societies, but the advent of farming society about 10,000\\nyears ago correlated with an increase in tooth decay (cavities).[32]\\nAn infected tooth from Italy partially cleaned with flint tools,\\nbetween 13,820 and 14,160 years old, represents the oldest known\\ndentistry,[33] although a 2017 study suggests that 130,000 years ago\\nthe Neanderthals already used rudimentary dentistry tools.[34] The\\nIndus valley has yielded evidence of dentistry being practised as far\\nback as 7000 BC, during the Stone Age.[35] The Neolithic site of\\nMehrgarh (now in Pakistan\\'s south western province of Balochistan)\\nindicates that this form of dentistry involved curing tooth related\\ndisorders with bow drills operated, perhaps, by skilled bead-\\ncrafters.[3] The reconstruction of this ancient form of dentistry\\nshowed that the methods used were reliable and effective.[36] The\\nearliest dental filling, made of beeswax, was discovered in Slovenia\\nand dates from 6500 years ago.[37] Dentistry was practised in\\nprehistoric Malta, as evidenced by a skull which had a dental abscess\\nlanced from the root of a tooth dating back to around 2500 BC.[38] An\\nancient Sumerian text describes a \"tooth worm\" as the cause of dental\\ncaries.[39] Evidence of this belief has also been found in ancient\\nIndia, Egypt, Japan, and China. The legend of the worm is also found\\nin the Homeric Hymns,[40] and as late as the 14th century AD the\\nsurgeon Guy de Chauliac still promoted the belief that worms cause\\ntooth decay.[41] Recipes for the treatment of toothache, infections\\nand loose teeth are spread throughout the Ebers Papyrus, Kahun Papyri,\\nBrugsch Papyrus, and Hearst papyrus of Ancient Egypt.[42] The Edwin\\nSmith Papyrus, written in the 17th century BC but which may reflect\\nprevious manuscripts from as early as 3000 BC, discusses the treatment\\nof dislocated or fractured jaws.[42][43] In the 18th century BC, the\\nCode of Hammurabi referenced dental extraction twice as it related to\\npunishment.[44] Examination of the remains of some ancient Egyptians\\nand Greco-Romans reveals early attempts at dental prosthetics.[45]\\nHowever, it is possible the prosthetics were prepared after death for\\naesthetic reasons.[42] Ancient Greek scholars Hippocrates and\\nAristotle wrote about dentistry, including the eruption pattern of\\nteeth, treating decayed teeth and gum disease, extracting teeth with\\nforceps, and using wires to stabilize loose teeth and fractured\\njaws.[46] Some say the first use of dental appliances or bridges comes\\nfrom the Etruscans from as early as 700 BC.[47] The Phoenicians\\ncrafted the oldest documented dentures during the 6th–4th century BC,\\nfashioning them from gold wire and incorporating two ivory teeth.[48]\\nIn ancient Egypt, Hesy-Ra is the first named \"dentist\" (greatest of\\nthe teeth). The Egyptians bound replacement teeth together with gold\\nwire. Roman medical writer Cornelius Celsus wrote extensively of oral\\ndiseases as well as dental treatments such as narcotic-containing\\nemollients and astringents.[49] The earliest dental amalgams were\\nfirst documented in a Tang dynasty medical text written by the Chinese\\nphysician Su Kung in 659, and appeared in Germany in 1528.[50][51]\\nDuring the Islamic Golden Age Dentistry was discussed in several\\nfamous books of medicine such as The Canon in medicine written by\\nAvicenna and Al-Tasreef by Al-Zahrawi who is considered the greatest\\nsurgeon of the Middle Ages,[52] Avicenna said that jaw fracture should\\nbe reduced according to the occlusal guidance of the teeth; this\\nprinciple is still valid in modern times. Al-Zahrawi invented over 200\\nsurgical tools that resemble the modern kind.[53] Historically, dental\\nextractions have been used to treat a variety of illnesses. During the\\nMiddle Ages and throughout the 19th century, dentistry was not a\\nprofession in itself, and often dental procedures were performed by\\nbarbers or general physicians. Barbers usually limited their practice\\nto extracting teeth which alleviated pain and associated chronic tooth\\ninfection. Instruments used for dental extractions date back several\\ncenturies. In the 14th century, Guy de Chauliac most probably invented\\nthe dental pelican[54] (resembling a pelican\\'s beak) which was used to\\nperform dental extractions up until the late 18th century. The pelican\\nwas replaced by the dental key[55] which, in turn, was replaced by\\nmodern forceps in the 19th century.[56]', 'Dental needle-nose pliers designed by Fauchard in the late 17th\\ncentury to use in prosthodontics The first book focused solely on\\ndentistry was the \"Artzney Buchlein\" in 1530,[46] and the first dental\\ntextbook written in English was called \"Operator for the Teeth\" by\\nCharles Allen in 1685.[23] In the United Kingdom, there was no formal\\nqualification for the providers of dental treatment until 1859 and it\\nwas only in 1921 that the practice of dentistry was limited to those\\nwho were professionally qualified. The Royal Commission on the\\nNational Health Service in 1979 reported that there were then more\\nthan twice as many registered dentists per 10,000 population in the UK\\nthan there were in 1921.[57]', 'Modern dentistry[edit] A microscopic device used in dental analysis,\\nc.\\u20091907 It was between 1650 and 1800 that the science of modern\\ndentistry developed. The English physician Thomas Browne in his A\\nLetter to a Friend (c.\\u20091656 pub. 1690) made an early dental\\nobservation with characteristic humour:', 'The Egyptian Mummies that I have seen, have had their Mouths open, and\\nsomewhat gaping, which affordeth a good opportunity to view and\\nobserve their Teeth, wherein \\'tis not easie to find any wanting or\\ndecayed: and therefore in Egypt, where one Man practised but one\\nOperation, or the Diseases but of single Parts, it must needs be a\\nbarren Profession to confine unto that of drawing of Teeth, and little\\nbetter than to have been Tooth-drawer unto King Pyrrhus, who had but\\ntwo in his Head. The French surgeon Pierre Fauchard became known as\\nthe \"father of modern dentistry\". Despite the limitations of the\\nprimitive surgical instruments during the late 17th and early 18th\\ncentury, Fauchard was a highly skilled surgeon who made remarkable\\nimprovisations of dental instruments, often adapting tools from\\nwatchmakers, jewelers and even barbers, that he thought could be used\\nin dentistry. He introduced dental fillings as treatment for dental\\ncavities. He asserted that sugar-derived acids like tartaric acid were\\nresponsible for dental decay, and also suggested that tumors\\nsurrounding the teeth and in the gums could appear in the later stages\\nof tooth decay.[58][59]', 'Panoramic radiograph of historic dental implants, made 1978 Fauchard\\nwas the pioneer of dental prosthesis, and he invented many methods to\\nreplace lost teeth. He suggested that substitutes could be made from\\ncarved blocks of ivory or bone. He also introduced dental braces,\\nalthough they were initially made of gold, he discovered that the\\nteeth position could be corrected as the teeth would follow the\\npattern of the wires. Waxed linen or silk threads were usually\\nemployed to fasten the braces. His contributions to the world of\\ndental science consist primarily of his 1728 publication Le chirurgien\\ndentiste or The Surgeon Dentist. The French text included \"basic oral\\nanatomy and function, dental construction, and various operative and\\nrestorative techniques, and effectively separated dentistry from the\\nwider category of surgery\".[58][59]', \"A modern dentist's chair After Fauchard, the study of dentistry\\nrapidly expanded. Two important books, Natural History of Human Teeth\\n(1771) and Practical Treatise on the Diseases of the Teeth (1778),\\nwere published by British surgeon John Hunter. In 1763, he entered\\ninto a period of collaboration with the London-based dentist James\\nSpence. He began to theorise about the possibility of tooth\\ntransplants from one person to another. He realised that the chances\\nof a successful tooth transplant (initially, at least) would be\\nimproved if the donor tooth was as fresh as possible and was matched\\nfor size with the recipient. These principles are still used in the\\ntransplantation of internal organs. Hunter conducted a series of\\npioneering operations, in which he attempted a tooth transplant.\\nAlthough the donated teeth never properly bonded with the recipients'\\ngums, one of Hunter's patients stated that he had three which lasted\\nfor six years, a remarkable achievement for the period.[60] Major\\nadvances in science were made in the 19th century, and dentistry\\nevolved from a trade to a profession. The profession came under\\ngovernment regulation by the end of the 19th century. In the UK, the\\nDentist Act was passed in 1878 and the British Dental Association\\nformed in 1879. In the same year, Francis Brodie Imlach was the first\\never dentist to be elected President of the Royal College of Surgeons\\n(Edinburgh), raising dentistry onto a par with clinical surgery for\\nthe first time.[61]\", 'Hazards in modern dentistry[edit] Main article: Occupational hazards\\nin dentistry Long term occupational noise exposure can contribute to\\npermanent hearing loss, which is referred to as noise-induced hearing\\nloss (NIHL) and tinnitus. Noise exposure can cause excessive\\nstimulation of the hearing mechanism, which damages the delicate\\nstructures of the inner ear.[62] NIHL can occur when an individual is\\nexposed to sound levels above 90 dBA according to the Occupational\\nSafety and Health Administration (OSHA). Regulations state that the\\npermissible noise exposure levels for individuals is 90 dBA.[63] For\\nthe National Institute for Occupational Safety and Health (NIOSH),\\nexposure limits are set to 85 dBA. Exposures below 85 dBA are not\\nconsidered to be hazardous. Time limits are placed on how long an\\nindividual can stay in an environment above 85 dBA before it causes\\nhearing loss. OSHA places that limitation at 8 hours for 85 dBA. The\\nexposure time becomes shorter as the dBA level increases. Within the\\nfield of dentistry, a variety of cleaning tools are used including\\npiezoelectric and sonic scalers, and ultrasonic scalers and\\ncleaners.[64] While a majority of the tools do not exceed 75 dBA,[65]\\nprolonged exposure over many years can lead to hearing loss or\\ncomplaints of tinnitus.[66] Few dentists have reported using personal\\nhearing protective devices,[67][68] which could offset any potential\\nhearing loss or tinnitus.', \"Evidence-based dentistry[edit] Main article: Evidence-based dentistry\\nThere is a movement in modern dentistry to place a greater emphasis on\\nhigh-quality scientific evidence in decision-making. Evidence-based\\ndentistry (EBD) uses current scientific evidence to guide decisions.\\nIt is an approach to oral health that requires the application and\\nexamination of relevant scientific data related to the patient's oral\\nand medical health. Along with the dentist's professional skill and\\nexpertise, EBD allows dentists to stay up to date on the latest\\nprocedures and patients to receive improved treatment. A new paradigm\\nfor medical education designed to incorporate current research into\\neducation and practice was developed to help practitioners provide the\\nbest care for their patients.[69] It was first introduced by Gordon\\nGuyatt and the Evidence-Based Medicine Working Group at McMaster\\nUniversity in Ontario, Canada in the 1990s. It is part of the larger\\nmovement toward evidence-based medicine and other evidence-based\\npractices, especially since a major part of dentistry involves dealing\\nwith oral and systemic diseases. Other issues relevant to the dental\\nfield in terms of evidence-based research and evidence-based practice\\ninclude population oral health, dental clinical practice, tooth\\nmorphology etc.\", 'A Dental Chair at the University of Michigan School of Dentistry\\nEthical and medicolegal issues[edit] Dentistry is unique in that it\\nrequires dental students to have competence-based clinical skills that\\ncan only be acquired through supervised specialized laboratory\\ntraining and direct patient care.[70] This necessitates the need for a\\nscientific and professional basis of care with a foundation of\\nextensive research-based education.[71] According to some experts, the\\naccreditation of dental schools can enhance the quality and\\nprofessionalism of dental education.[72][73]', 'See also[edit]', 'Medicine portal List of dental organizations Dental aerosol Dental\\ninstrument By country Dentistry in Canada Dentistry in the Philippines\\nDentistry in Israel Dentistry in the United Kingdom Dentistry in the\\nUnited States', 'Notes[edit]', ' ^ Whether Dentists are referred to as \"Doctor\" is subject to\\ngeographic variation. For example, they are called \"Doctor\" in the US.\\nIn the UK, dentists have traditionally been referred to as \"Mister\" as\\nthey identified themselves with barber surgeons more than physicians\\n(as do surgeons in the UK, see Surgeon#Titles). However more UK\\ndentists now refer to themselves as \"Doctor\", although this was\\nconsidered to be potentially misleading by the British public in a\\nsingle report  (see Costley and Fawcett 2010).', '^ The scope of Oral and maxillofacial surgery is variable. In some\\ncountries, both a medical and dental degree is required for training,\\nand the scope includes head and neck oncology and craniofacial\\ndeformity.', ' References[edit]', ' ^ Neil Costley; Jo Fawcett (November 2010). General Dental Council\\nPatient and Public Attitudes to Standards for Dental Professionals,\\nEthical Guidance and Use of the Term Doctor (PDF) (Report). General\\nDental Council/George Street Research. Archived from the original\\n(PDF) on 4 March 2016. Retrieved 11 January 2017.', '^ \"Glossary of Dental Clinical and Administrative Terms\". American\\nDental Association. Archived from the original on 6 March 2016.\\nRetrieved 1 February 2014.', '^ a b \"Stone age man used dentist drill\". BBC News. 6 April 2006.\\nRetrieved 24 May 2010.', '^ Suddick, RP; Harris, NO (1990). \"Historical perspectives of oral\\nbiology: a series\". Critical Reviews in Oral Biology and Medicine. 1\\n(2): 135–51. doi:10.1177/10454411900010020301. PMID\\xa02129621.', '^ \"When barbers were surgeons and surgeons were barbers\". Radio\\nNational. 15 April 2015. Retrieved 10 September 2021.', '^ \"dentistry\". Etymonline.com. Retrieved 17 May 2018.', '^ a b Gambhir RS (2015). \"Primary care in dentistry – an untapped\\npotential\". Journal of Family Medicine and Primary Care (Review). 4\\n(1): 13–18. doi:10.4103/2249-4863.152239. PMC\\xa04366984. PMID\\xa025810982.', '^ \"What is the burden of oral disease?\". WHO. Archived from the\\noriginal on 30 June 2004. Retrieved 6 June 2017.', '^ \"American Academy of Cosmetic Dentistry | Dental CE Courses\".\\naacd.com. Retrieved 21 October 2019.', '^ a b c \"Diagnosis of Celiac Disease\". National Institute of Health\\n(NIH). Archived from the original on 15 May 2017. Retrieved 6 June\\n2017.{{cite web}}:  CS1 maint: bot: original URL status unknown (link)', '^ Dental Enamel Defects and Celiac Disease Archived March 5, 2016, at\\nthe Wayback Machine National Institute of Health (NIH)', '^ Pastore L, Carroccio A, Compilato D, Panzarella V, Serpico R, Lo\\nMuzio L (2008). \"Oral manifestations of celiac disease\". J Clin\\nGastroenterol (Review). 42 (3): 224–32.\\ndoi:10.1097/MCG.0b013e318074dd98. hdl:10447/1671. PMID\\xa018223505.\\nS2CID\\xa0205776755.', '^ Estrella MR, Boynton JR (2010). \"General dentistry\\'s role in the\\ncare for children with special needs: a review\". Gen Dent (Review). 58\\n(3): 222–29. PMID\\xa020478802.', '^ da Fonseca MA (2010). \"Dental and oral care for chronically ill\\nchildren and adolescents\". Gen Dent (Review). 58 (3): 204–09, quiz\\n210–11. PMID\\xa020478800.', '^ Owen, Lorrie K., ed. Dictionary of Ohio Historic Places. Vol. 2. St.\\nClair Shores: Somerset, 1999, 1217–1218.', '^ Mary, Otto (2017). Teeth: the story of beauty, inequality, and the\\nstruggle for oral health in America. New York: The New Press. p.\\xa070.\\nISBN\\xa0978-1-62097-144-4. OCLC\\xa0958458166.', '^ \"History\". Pennsylvania School of Dental Medicine. Retrieved 13\\nJanuary 2016.', '^ Zadik Yehuda; Levin Liran (January 2008). \"Clinical decision making\\nin restorative dentistry, endodontics, and antibiotic prescription\". J\\nDent Educ. 72 (1): 81–86. doi:10.1002/j.0022-0337.2008.72.1.tb04456.x.\\nPMID\\xa018172239.', '^ Zadik Yehuda; Levin Liran (April 2006). \"Decision making of Hebrew\\nUniversity and Tel Aviv University Dental Schools graduates in every\\nday dentistry—is there a difference?\". J Isr Dent Assoc. 23 (2):\\n19–23. PMID\\xa016886872.', '^ Zadik Yehuda; Levin Liran (April 2007). \"Decision making of Israeli,\\nEast European, and South American dental school graduates in third\\nmolar surgery: is there a difference?\". J Oral Maxillofac Surg. 65\\n(4): 658–62. doi:10.1016/j.joms.2006.09.002. PMID\\xa017368360.', '^ Gelbier, Stanley (1 October 2005). \"Dentistry and the University of\\nLondon\". Medical History. 49 (4): 445–462.\\ndoi:10.1017/s0025727300009157. PMC\\xa01251639. PMID\\xa016562330.', '^ a b Gelbier, Stanley. 125 Years of Developments in Dentistry.\\nBritish Dental Journal (2005); 199, 470–73. The 1879 register is\\nreferred to as the \"Dental Register\".', '^ a b The story of dentistry: Dental History Timeline Archived 9 March\\n2012 at the Wayback Machine, hosted on the British Dental Association\\nwebsite. Page accessed 2 March 2010.', '^ J Menzies Campbell (8 February 1955). \"Banning Clerks, Colliers and\\nother Charlatans\". The Glasgow Herald. p.\\xa03. Retrieved 5 April 2017.', '^ History of Dental Surgery in Edinburgh (PDF), hosted on the Royal\\nCollege of Surgeons of Edinburgh website. Page accessed 11 December\\n2007.', '^ \"Dentistry (D.D.S. or D.M.D.)\" (PDF). Purdue.edu. Archived from the\\noriginal (PDF) on 9 January 2017. Retrieved 17 May 2018.', '^ \"Canadian Dental Association\". cda-adc.ca. Retrieved 21 October\\n2019.', '^ \"Anesthesiology recognized as a dental specialty\". www.ada.org.\\nArchived from the original on 21 September 2019. Retrieved 12 March\\n2019.', '^ \"Sports dentistry\". FDI World Dental Federation. Archived from the\\noriginal on 23 October 2020. Retrieved 13 July 2020.', '^ \"AVDC Home\". Avdc.org. 29 November 2009. Retrieved 18 April 2010.', '^ \"EVDC web site\". Evdc.info. Archived from the original on 5\\nSeptember 2018. Retrieved 18 April 2010.', '^ Barras, Colin (29 February 2016). \"How our ancestors drilled rotten\\nteeth\". BBC. Archived from the original on 19 May 2017. Retrieved 1\\nMarch 2016.', '^ \"Oldest Dentistry Found in 14,000-Year-Old Tooth\". Discovery\\nChannel. 16 July 2015. Archived from the original on 18 July 2015.\\nRetrieved 21 July 2015.', '^ \"Analysis of Neanderthal teeth marks uncovers evidence of\\nprehistoric dentistry\". The University of Kansas. 28 June 2017.\\nRetrieved 1 July 2017.', '^ Coppa, A. et al. 2006. \"Early Neolithic tradition of dentistry\"\\n(PDF). Nature. Volume 440. 6 April 2006.', '^ NBC News (2008). Dig uncovers ancient roots of dentistry.', '^ Bernardini, Federico; Tuniz, Claudio; Coppa, Alfredo; Mancini,\\nLucia; Dreossi, Diego; Eichert, Diane; Turco, Gianluca; Biasotto,\\nMatteo; Terrasi, Filippo; De Cesare, Nicola; Hua, Quan; Levchenko,\\nVladimir (2012). \"Beeswax as Dental Filling on a Neolithic Human\\nTooth\". PLOS ONE. 7 (9): e44904. Bibcode:2012PLoSO...744904B.\\ndoi:10.1371/journal.pone.0044904. PMC\\xa03446997. PMID\\xa023028670.', '^ \"700 years added to Malta\\'s history\". Times of Malta. 16 March 2018.\\nArchived from the original on 16 March 2018.', '^ \"History of Dentistry: Ancient Origins\". American Dental\\nAssociation. Archived from the original on 5 July 2007. Retrieved 9\\nJanuary 2007.', '^ TOWNEND, B. R. (1944). \"The Story of the Tooth-Worm\". Bulletin of\\nthe History of Medicine. 15 (1): 37–58. ISSN\\xa00007-5140.\\nJSTOR\\xa044442797.', '^ Suddick Richard P., Harris Norman O. (1990). \"Historical\\nPerspectives of Oral Biology: A Series\" (PDF). Critical Reviews in\\nOral Biology and Medicine. 1 (2): 135–51.\\ndoi:10.1177/10454411900010020301. PMID\\xa02129621. Archived from the\\noriginal (PDF) on 18 December 2007.', '^ a b c Blomstedt, P. (2013). \"Dental surgery in ancient Egypt\".\\nJournal of the History of Dentistry. 61 (3): 129–42. PMID\\xa024665522.', '^ Ancient Egyptian Dentistry, hosted on the University of Oklahoma\\nwebsite. Page accessed 15 December 2007. Version archived by the\\nWayback Machine on 26 December 2007.', '^ Wilwerding, Terry. \"History of Dentistry 2001\" (PDF). Archived from\\nthe original (PDF) on 3 November 2014. Retrieved 3 November 2014.', '^ \"Medicine in Ancient Egypt 3\". Arabworldbooks.com. Retrieved 18\\nApril 2010.', '^ a b \"History Of Dentistry\". Complete Dental Guide. Archived from the\\noriginal on 14 July 2016. Retrieved 29 June 2016.', '^ \"History of Dentistry Research Page, Newsletter\". Rcpsg.ac.uk.\\nArchived from the original on 28 April 2015. Retrieved 9 June 2014.', '^ Renfrew, Colin; Bahn, Paul (2012). Archaeology: Theories, Methods,\\nand Practice (6th\\xa0ed.). Thames & Hudson. p.\\xa0449.\\nISBN\\xa0978-0-500-28976-1.', '^ \"Dental Treatment in the Ancient Times\". Dentaltreatment.org.uk.\\nArchived from the original on 1 December 2009. Retrieved 18 April\\n2010.', '^ Bjørklund G (1989). \"The history of dental amalgam (in Norwegian)\".\\nTidsskr Nor Laegeforen. 109 (34–36): 3582–85. PMID\\xa02694433.', '^ Czarnetzki, A.; Ehrhardt S. (1990). \"Re-dating the Chinese amalgam-\\nfilling of teeth in Europe\". International Journal of Anthropology. 5\\n(4): 325–32.', '^ Meri, Josef (2005). Medieval Islamic Civilization: An Encyclopedia\\n(Routledge Encyclopedias of the Middle Ages). Psychology Press.\\nISBN\\xa0978-0-415-96690-0.', '^ Friedman, Saul S. (2006). A history of the Middle East. Jefferson,\\nN.C.: Mcfarland. p.\\xa0152. ISBN\\xa00786451343.', '^ Gregory Ribitzky. \"Pelican\". Retrieved 23 June 2018.', '^ Gregory Ribitzky. \"Toothkey\". Retrieved 23 June 2018.', '^ Gregory Ribitzky. \"Forceps\". Retrieved 23 June 2018.', '^ Royal Commission on the NHS Chapter 9. HMSO. July 1979.\\nISBN\\xa0978-0-10-176150-5. Retrieved 19 May 2015.', '^ a b André Besombes; Phillipe de Gaillande (1993). Pierre Fauchard\\n(1678–1761): The First Dental Surgeon, His Work, His Actuality. Pierre\\nFauchard Academy.', '^ a b Bernhard Wolf Weinberger (1941). Pierre Fauchard, Surgeon-\\ndentist: A Brief Account of the Beginning of Modern Dentistry, the\\nFirst Dental Textbook, and Professional Life Two Hundred Years Ago.\\nPierre Fauchard Academy.', '^ Moore, Wendy (30 September 2010). The Knife Man. Transworld.\\npp.\\xa0223–24. ISBN\\xa0978-1-4090-4462-8. Retrieved 8 March 2012.', '^ Dingwall, Helen (April 2004). \"A pioneering history: dentistry and\\nthe Royal College of Surgeons of Edinburgh\" (PDF). History of\\nDentistry Newsletter. No.\\xa014. Archived from the original (PDF) on 1\\nFebruary 2013.', '^ \"Noise-Induced Hearing Loss\". NIDCD. 18 August 2015.', '^ \"Occupational Safety and Health Standards | Occupational Safety and\\nHealth Administration\". Osha.gov.', '^ Stevens, M (1999). \"Is someone listening to the din of occupational\\nnoise exposure in dentistry\". RDH (19): 34–85.', '^ Merrel, HB (1992). \"Noise pollution and hearing loss in the dental\\noffice\". Dental Assisting Journal. 61 (3): 6–9.', '^ Wilson, J.D. (2002). \"Effects of occupational ultrasonic noise\\nexposure on hearing of dental hygienists: A pilot study\". Journal of\\nDental Hygiene. 76 (4): 262–69. PMID\\xa012592917.', '^ Leggat, P.A. (2007). \"Occupational Health Problems in Modern\\nDentistry: A Review\" (PDF). Industrial Health. 45 (5): 611–21.\\ndoi:10.2486/indhealth.45.611. PMID\\xa018057804. Archived (PDF) from the\\noriginal on 27 April 2019.', '^ Leggat, P.A. (2001). \"Occupational hygiene practices of dentists in\\nsouthern Thailand\". International Dental Journal. 51 (51): 11–6.\\ndoi:10.1002/j.1875-595x.2001.tb00811.x. PMID\\xa011326443.', '^ Evidence-Based Medicine Working Group (1992). \"Evidence-based\\nmedicine. A new approach to teaching the practice of medicine\".\\nJournal of the American Medical Association. 268 (17): 2420–2425.\\ndoi:10.1001/jama.1992.03490170092032. PMID\\xa01404801.', '^ \"Union workers build high-tech dental simulation laboratory for SIU\\ndental school\". The Labor Tribune. 17 March 2014. Retrieved 10\\nSeptember 2021.', '^ Slavkin, Harold C. (January 2012). \"Evolution of the scientific\\nbasis for dentistry and its impact on dental education: past, present,\\nand future\". Journal of Dental Education. 76 (1): 28–35.\\ndoi:10.1002/j.0022-0337.2012.76.1.tb05231.x. ISSN\\xa01930-7837.\\nPMID\\xa022262547.', '^ Formicola, Allan J.; Bailit, Howard L.; Beazoglou, Tryfon J.;\\nTedesco, Lisa A. (February 2008). \"The interrelationship of\\naccreditation and dental education: history and current environment\".\\nJournal of Dental Education. 72 (2 Suppl): 53–60.\\ndoi:10.1002/j.0022-0337.2008.72.2_suppl.tb04480.x. ISSN\\xa00022-0337.\\nPMID\\xa018250379.', '^ Carrrassi, A. (2019). \"The first 25 year [Internet] Ireland: ADEE\\n(Association for Dental Education in Europe)\". Association for Dental\\nEducation in Europe. Retrieved 21 October 2019.', ' External links[edit]', \" Dentistry  at Wikipedia's sister projects\", 'Definitions from WiktionaryMedia from CommonsQuotations from\\nWikiquoteTexts from WikisourceTextbooks from WikibooksResources from\\nWikiversityData from Wikidata', 'Dentistry at Curlie vteDentistrySpecialties Endodontics Oral and\\nmaxillofacial pathology Oral and maxillofacial radiology Oral and\\nmaxillofacial surgery Orthodontics and dentofacial orthopedics\\nPediatric dentistry Periodontics Prosthodontics Dental public health\\nCosmetic dentistry Dental implantology Geriatric dentistry Restorative\\ndentistry Forensic odontology Dental traumatology Holistic dentistry\\nDental surgery Dental extraction Tooth filling Root canal therapy Root\\nend surgery Scaling and root planing Teeth cleaning Dental bonding\\nTooth polishing Tooth bleaching Socket preservation Dental implant\\nOrganisations American Association of Orthodontists British Dental\\nAssociation British Dental Health Foundation British Orthodontic\\nSociety Canadian Association of Orthodontists Dental Technologists\\nAssociation General Dental Council Indian Dental Association National\\nHealth Service By country Canada Philippines Israel United Kingdom\\nUnited States See also Index of oral health and dental articles\\nOutline of dentistry and oral health Dental fear Dental instruments\\nDental material History of dental treatments Ancient Rome Infant oral\\nmutilation Mouth assessment Oral hygiene', 'vteCleft lip and cleft palateRelated specialities Advance practice\\nnursing Audiology Dentistry Dietetics Genetics Oral and maxillofacial\\nsurgery Orthodontics Orthodontic technology Otolaryngology Pediatrics\\nPediatric dentistry Physician Plastic surgery Psychiatry Psychology\\nRespiratory therapy Social work Speech and language therapy Related\\nsyndromes Hearing loss with craniofacial syndromes Pierre Robin\\nsyndrome Popliteal pterygium syndrome Van der Woude syndrome National\\nand international  organisations Cleft Lip and Palate Association\\nCraniofacial Society of Great Britain and Ireland Interplast North\\nThames Regional Cleft Lip and Palate Service Operation Smile Overseas\\nPlastic Surgery Appeal Shriners Hospitals for Children Smile Train\\nTransforming Faces Worldwide Smile Angel Foundation (China)', \"vteDental schoolsAmerican dental schools UAB Arizona Augusta (DCG)\\nBoston U (Goldman) California (UCLA, UCSF) Case Western Reserve\\nColorado Columbia Connecticut Creighton Detroit Mercy East Carolina\\nFlorida Harvard Howard Illinois–Chicago Indiana Iowa Kentucky Lake\\nErie Loma Linda Louisville LSU Health–New Orleans Marquette\\nMaryland–Baltimore Meharry Michigan Midwestern Minnesota Mississippi\\nMissouri–Kansas City Nebraska–Medical Center Nevada–Las Vegas New\\nEngland NYU SUNY (Buffalo, Stony Brook) North Carolina Nova Ohio State\\nOklahoma Oregon Pacific (Dugoni) Penn Pitt Puerto Rico Rochester\\nRutgers South Carolina Southern California (Ostrow) Southern\\nIllinois–Edwardsville Touro Temple (Kornberg) Tennessee Texas  (UT\\nHealth–Houston, UT Health–San Antonio) Texas A&M Texas Tech–El Paso\\n(Hunt) Tufts VCU Washington WesternU West Virginia Defunct American\\ndental schools Emory Fairleigh Dickinson Georgetown Harris Loyola\\nNorthwestern Ohio College Oral Roberts Pennsylvania College Wash U\\nCanadian dental schools Alberta British Columbia Dalhousie Laval\\nManitoba McGill Montréal Saskatchewan Toronto Western British dental\\nschools Aberdeen Barts and The London School of Medicine and Dentistry\\nGlasgow Guy's, King's & St Thomas's Liverpool Newcastle Peninsula\\nCollege of Medicine and Dentistry UCL Eastman Dental Institute\\nAustralian and New Zealand dental schools Sydney Melbourne Adelaide\\nCharles Sturt University Griffith University James Cook La Trobe\\nQueensland Western Australia University of Otago South Korean dental\\nschools Chonbuk Chonnam Chosun Dankook Gangneung-Wonju Kyung Hee\\nKyungpook Pusan Seoul Wonkwang Yonsei\", 'vteMedicineSpecialtiesandsubspecialtiesSurgery Cardiac surgery\\nCardiothoracic surgery Endocrine surgery Eye surgery General surgery\\nColorectal surgery Digestive system surgery Neurosurgery Oral and\\nmaxillofacial surgery Orthopedic surgery Hand surgery Otolaryngology\\nENT Pediatric surgery Plastic surgery Reproductive surgery Surgical\\noncology Transplant surgery Trauma surgery Urology Andrology Vascular\\nsurgery Internalmedicine Allergy\\xa0/ Immunology Angiology Cardiology\\nEndocrinology Gastroenterology Hepatology Geriatrics Hematology\\nHospital medicine Infectious diseases Nephrology Oncology Pulmonology\\nRheumatology Obstetrics andgynaecology Gynaecology Gynecologic\\noncology Maternal–fetal medicine Obstetrics Reproductive endocrinology\\nand infertility Urogynecology Diagnostic Radiology Interventional\\nradiology Neuroradiology Nuclear medicine Pathology Anatomical\\nClinical pathology Clinical chemistry Cytopathology Medical\\nmicrobiology Transfusion medicine Other Addiction medicine Adolescent\\nmedicine Anesthesiology Obstetric anesthesiology Neurosurgical\\nanesthesiology Aviation medicine Dermatology Disaster medicine Diving\\nmedicine Emergency medicine Mass gathering medicine Evolutionary\\nmedicine Family medicine / General practice Hospital medicine\\nIntensive care medicine Medical genetics Narcology Neurology Clinical\\nneurophysiology Occupational medicine Ophthalmology Oral medicine Pain\\nmanagement Palliative care Pediatrics Neonatology Phlebology Physical\\nmedicine and rehabilitation (PM&R) Preventive medicine Prison\\nhealthcare Psychiatry Addiction psychiatry Radiation oncology\\nReproductive medicine Sexual medicine Venereology Sleep medicine\\nSports medicine Transplantation medicine Tropical medicine Travel\\nmedicine Medicaleducation Medical school Bachelor of Medicine,\\nBachelor of Surgery Bachelor of Medical Sciences Master of Medicine\\nMaster of Surgery Doctor of Medicine Doctor of Osteopathic Medicine\\nMD–PhD Medical Scientist Training Program Related topics Alternative\\nmedicine Allied health Molecular oncology Nanomedicine Personalized\\nmedicine Public health Rural health Therapy Traditional medicine\\nVeterinary medicine Physician Chief physician History of medicine', ' Category  Commons  Wikiproject  Portal  Outline', 'Authority control databases National France BnF data Germany Israel\\nUnited States Latvia Czech Republic Other Historical Dictionary of\\nSwitzerland NARA', '', '', 'Retrieved from \"https://en.wikipedia.org/w/index.php?title=Dentistry&o\\nldid=1229204332\" Category: DentistryHidden categories: CS1 maint: bot:\\noriginal URL status unknownWebarchive template wayback linksArticles\\nwith short descriptionShort description is different from WikidataUse\\ndmy dates from June 2024Use American English from June 2016All\\nWikipedia articles written in American EnglishPages with too many\\nphotosArticles containing Ancient Greek (to 1453)-language textPages\\nusing Sister project links with wikidata namespace mismatchPages using\\nSister project links with hidden wikidataArticles with Curlie\\nlinksArticles with BNF identifiersArticles with BNFdata\\nidentifiersArticles with GND identifiersArticles with J9U\\nidentifiersArticles with LCCN identifiersArticles with LNB\\nidentifiersArticles with NKC identifiersArticles with HDS\\nidentifiersArticles with NARA identifiers']\n"
          ]
        }
      ]
    },
    {
      "cell_type": "code",
      "source": [
        "documents = []\n",
        "embeddings = []\n",
        "metadatas = []\n",
        "ids = []\n",
        "\n",
        "for index, data in enumerate(cleaned_text):\n",
        "    documents.append(data)\n",
        "    embedding = model.encode(data).tolist()\n",
        "    embeddings.append(embedding)\n",
        "    metadatas.append({'source': index})\n",
        "    ids.append(str(index + 1))"
      ],
      "metadata": {
        "id": "C--x7e9sD1Oc"
      },
      "execution_count": 90,
      "outputs": []
    },
    {
      "cell_type": "code",
      "source": [
        "client = chromadb.Client()\n",
        "collection = client.create_collection('dentistry1')"
      ],
      "metadata": {
        "id": "rEQSmXjfFb0s"
      },
      "execution_count": 97,
      "outputs": []
    },
    {
      "cell_type": "code",
      "source": [
        "collection.add(\n",
        "    documents=documents,\n",
        "    embeddings=embeddings,\n",
        "    metadatas=metadatas,\n",
        "    ids=ids\n",
        ")"
      ],
      "metadata": {
        "id": "ob0L77wZHgPm"
      },
      "execution_count": 100,
      "outputs": []
    },
    {
      "cell_type": "code",
      "source": [
        "query = \"what is weather today?\"\n",
        "input_em = model.encode(query).tolist()\n",
        "\n",
        "results = collection.query(\n",
        "    query_embeddings=[input_em],\n",
        "    n_results=3\n",
        ")\n",
        "# print(results)\n",
        "results=results['documents'][0]\n",
        "results"
      ],
      "metadata": {
        "colab": {
          "base_uri": "https://localhost:8080/"
        },
        "id": "azIeLaI6H5a-",
        "outputId": "05702a9a-80aa-41b9-cd57-bfb1a0e7be6e"
      },
      "execution_count": 119,
      "outputs": [
        {
          "output_type": "execute_result",
          "data": {
            "text/plain": [
              "['', '', '']"
            ]
          },
          "metadata": {},
          "execution_count": 119
        }
      ]
    },
    {
      "cell_type": "code",
      "source": [
        "results=' '.join(results)\n",
        "results"
      ],
      "metadata": {
        "colab": {
          "base_uri": "https://localhost:8080/",
          "height": 35
        },
        "id": "0X5CfzTqMkVX",
        "outputId": "10057f19-20dd-493c-c4dd-f053809fb077"
      },
      "execution_count": 120,
      "outputs": [
        {
          "output_type": "execute_result",
          "data": {
            "text/plain": [
              "'  '"
            ],
            "application/vnd.google.colaboratory.intrinsic+json": {
              "type": "string"
            }
          },
          "metadata": {},
          "execution_count": 120
        }
      ]
    },
    {
      "cell_type": "code",
      "source": [
        "prompt = f\"\"\"\n",
        "Act as a dentist. Whenever someone will ask you about dentistry, provide the specific and to the point information. you create long passages. If you don't know the answer, just say that you don't know, don't try to make up an answer.\n",
        "\n",
        "CONTEXT: {results}\n",
        "QUESTION: {query}\n",
        "\n",
        "\"\"\""
      ],
      "metadata": {
        "id": "vLcJ6jJbi3zi"
      },
      "execution_count": 121,
      "outputs": []
    },
    {
      "cell_type": "code",
      "source": [
        "from google.colab import userdata\n",
        "from openai import OpenAI\n",
        "client=OpenAI(api_key=userdata.get('openai'))"
      ],
      "metadata": {
        "id": "n2XNZCrjlPvs"
      },
      "execution_count": 122,
      "outputs": []
    },
    {
      "cell_type": "code",
      "source": [
        "response=client.chat.completions.create(\n",
        "    model='gpt-4o',\n",
        "    messages=[\n",
        "        {'role':'user','content':prompt}\n",
        "    ]\n",
        ")"
      ],
      "metadata": {
        "id": "Mq92gWABmdp0"
      },
      "execution_count": 123,
      "outputs": []
    },
    {
      "cell_type": "code",
      "source": [
        "print(response.choices[0].message.content)"
      ],
      "metadata": {
        "colab": {
          "base_uri": "https://localhost:8080/"
        },
        "id": "K1-mSRyBnSQ0",
        "outputId": "13651f94-0227-4de6-a051-9eadf0dee1da"
      },
      "execution_count": 124,
      "outputs": [
        {
          "output_type": "stream",
          "name": "stdout",
          "text": [
            "I'm a dentist, so weather updates are not within my expertise. You might want to check a weather app or website for the most accurate information. How can I help you with any dental concerns or questions?\n"
          ]
        }
      ]
    },
    {
      "cell_type": "code",
      "source": [],
      "metadata": {
        "id": "3X9tA83ynbbV"
      },
      "execution_count": null,
      "outputs": []
    }
  ]
}